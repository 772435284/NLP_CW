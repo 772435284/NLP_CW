{
 "cells": [
  {
   "cell_type": "code",
   "execution_count": 1,
   "metadata": {},
   "outputs": [
    {
     "name": "stdout",
     "output_type": "stream",
     "text": [
      "Collecting contractions\n",
      "  Using cached contractions-0.1.66-py2.py3-none-any.whl (8.0 kB)\n",
      "Collecting textsearch>=0.0.21\n",
      "  Using cached textsearch-0.0.21-py2.py3-none-any.whl (7.5 kB)\n",
      "Collecting anyascii\n",
      "  Using cached anyascii-0.3.0-py3-none-any.whl (284 kB)\n",
      "Collecting pyahocorasick\n",
      "  Using cached pyahocorasick-1.4.4-cp39-cp39-manylinux_2_17_x86_64.manylinux2014_x86_64.whl (109 kB)\n",
      "Installing collected packages: pyahocorasick, anyascii, textsearch, contractions\n"
     ]
    },
    {
     "name": "stderr",
     "output_type": "stream",
     "text": [
      "ERROR: Could not install packages due to an OSError: [Errno 13] Permission denied: '/opt/miniconda3/lib/python3.9/site-packages/ahocorasick.cpython-39-x86_64-linux-gnu.so'\n",
      "Consider using the `--user` option or check the permissions.\n",
      "\n"
     ]
    },
    {
     "name": "stdout",
     "output_type": "stream",
     "text": [
      "Collecting nlpaug\n",
      "  Using cached nlpaug-1.1.10-py3-none-any.whl (410 kB)\n",
      "Requirement already satisfied: numpy>=1.16.2 in /opt/miniconda3/lib/python3.9/site-packages (from nlpaug) (1.21.2)\n",
      "Requirement already satisfied: pandas>=1.2.0 in /opt/miniconda3/lib/python3.9/site-packages (from nlpaug) (1.4.1)\n",
      "Requirement already satisfied: requests>=2.22.0 in /opt/miniconda3/lib/python3.9/site-packages (from nlpaug) (2.27.1)\n",
      "Requirement already satisfied: pytz>=2020.1 in /opt/miniconda3/lib/python3.9/site-packages (from pandas>=1.2.0->nlpaug) (2021.3)\n",
      "Requirement already satisfied: python-dateutil>=2.8.1 in /opt/miniconda3/lib/python3.9/site-packages (from pandas>=1.2.0->nlpaug) (2.8.2)\n",
      "Requirement already satisfied: idna<4,>=2.5 in /opt/miniconda3/lib/python3.9/site-packages (from requests>=2.22.0->nlpaug) (3.3)\n",
      "Requirement already satisfied: charset-normalizer~=2.0.0 in /opt/miniconda3/lib/python3.9/site-packages (from requests>=2.22.0->nlpaug) (2.0.12)\n",
      "Requirement already satisfied: certifi>=2017.4.17 in /opt/miniconda3/lib/python3.9/site-packages (from requests>=2.22.0->nlpaug) (2021.10.8)\n",
      "Requirement already satisfied: urllib3<1.27,>=1.21.1 in /opt/miniconda3/lib/python3.9/site-packages (from requests>=2.22.0->nlpaug) (1.26.8)\n",
      "Requirement already satisfied: six>=1.5 in /opt/miniconda3/lib/python3.9/site-packages (from python-dateutil>=2.8.1->pandas>=1.2.0->nlpaug) (1.16.0)\n",
      "Installing collected packages: nlpaug\n"
     ]
    },
    {
     "name": "stderr",
     "output_type": "stream",
     "text": [
      "ERROR: Could not install packages due to an OSError: [Errno 13] Permission denied: '/opt/miniconda3/lib/python3.9/site-packages/nlpaug'\n",
      "Consider using the `--user` option or check the permissions.\n",
      "\n"
     ]
    },
    {
     "name": "stdout",
     "output_type": "stream",
     "text": [
      "Collecting google-cloud-translate==2.0.1\n",
      "  Using cached google_cloud_translate-2.0.1-py2.py3-none-any.whl (90 kB)\n",
      "Collecting google-api-core[grpc]<2.0.0dev,>=1.15.0\n",
      "  Using cached google_api_core-1.31.5-py2.py3-none-any.whl (93 kB)\n",
      "Collecting google-cloud-core<2.0dev,>=1.1.0\n",
      "  Using cached google_cloud_core-1.7.2-py2.py3-none-any.whl (28 kB)\n",
      "Collecting googleapis-common-protos<2.0dev,>=1.6.0\n",
      "  Using cached googleapis_common_protos-1.55.0-py2.py3-none-any.whl (212 kB)\n",
      "Requirement already satisfied: setuptools>=40.3.0 in /opt/miniconda3/lib/python3.9/site-packages (from google-api-core[grpc]<2.0.0dev,>=1.15.0->google-cloud-translate==2.0.1) (60.9.2)\n",
      "Requirement already satisfied: requests<3.0.0dev,>=2.18.0 in /opt/miniconda3/lib/python3.9/site-packages (from google-api-core[grpc]<2.0.0dev,>=1.15.0->google-cloud-translate==2.0.1) (2.27.1)\n",
      "Requirement already satisfied: packaging>=14.3 in /opt/miniconda3/lib/python3.9/site-packages (from google-api-core[grpc]<2.0.0dev,>=1.15.0->google-cloud-translate==2.0.1) (21.3)\n",
      "Requirement already satisfied: protobuf>=3.12.0 in /opt/miniconda3/lib/python3.9/site-packages (from google-api-core[grpc]<2.0.0dev,>=1.15.0->google-cloud-translate==2.0.1) (3.19.4)\n",
      "Requirement already satisfied: six>=1.13.0 in /opt/miniconda3/lib/python3.9/site-packages (from google-api-core[grpc]<2.0.0dev,>=1.15.0->google-cloud-translate==2.0.1) (1.16.0)\n",
      "Collecting google-auth<2.0dev,>=1.25.0\n",
      "  Using cached google_auth-1.35.0-py2.py3-none-any.whl (152 kB)\n",
      "Requirement already satisfied: pytz in /opt/miniconda3/lib/python3.9/site-packages (from google-api-core[grpc]<2.0.0dev,>=1.15.0->google-cloud-translate==2.0.1) (2021.3)\n",
      "Requirement already satisfied: grpcio<2.0dev,>=1.29.0 in /opt/miniconda3/lib/python3.9/site-packages (from google-api-core[grpc]<2.0.0dev,>=1.15.0->google-cloud-translate==2.0.1) (1.44.0)\n",
      "Requirement already satisfied: pyasn1-modules>=0.2.1 in /opt/miniconda3/lib/python3.9/site-packages (from google-auth<2.0dev,>=1.25.0->google-api-core[grpc]<2.0.0dev,>=1.15.0->google-cloud-translate==2.0.1) (0.2.8)\n",
      "Collecting cachetools<5.0,>=2.0.0\n",
      "  Using cached cachetools-4.2.4-py3-none-any.whl (10 kB)\n",
      "Requirement already satisfied: rsa<5,>=3.1.4 in /opt/miniconda3/lib/python3.9/site-packages (from google-auth<2.0dev,>=1.25.0->google-api-core[grpc]<2.0.0dev,>=1.15.0->google-cloud-translate==2.0.1) (4.8)\n",
      "Requirement already satisfied: pyparsing!=3.0.5,>=2.0.2 in /opt/miniconda3/lib/python3.9/site-packages (from packaging>=14.3->google-api-core[grpc]<2.0.0dev,>=1.15.0->google-cloud-translate==2.0.1) (3.0.7)\n",
      "Requirement already satisfied: idna<4,>=2.5 in /opt/miniconda3/lib/python3.9/site-packages (from requests<3.0.0dev,>=2.18.0->google-api-core[grpc]<2.0.0dev,>=1.15.0->google-cloud-translate==2.0.1) (3.3)\n",
      "Requirement already satisfied: urllib3<1.27,>=1.21.1 in /opt/miniconda3/lib/python3.9/site-packages (from requests<3.0.0dev,>=2.18.0->google-api-core[grpc]<2.0.0dev,>=1.15.0->google-cloud-translate==2.0.1) (1.26.8)\n",
      "Requirement already satisfied: certifi>=2017.4.17 in /opt/miniconda3/lib/python3.9/site-packages (from requests<3.0.0dev,>=2.18.0->google-api-core[grpc]<2.0.0dev,>=1.15.0->google-cloud-translate==2.0.1) (2021.10.8)\n",
      "Requirement already satisfied: charset-normalizer~=2.0.0 in /opt/miniconda3/lib/python3.9/site-packages (from requests<3.0.0dev,>=2.18.0->google-api-core[grpc]<2.0.0dev,>=1.15.0->google-cloud-translate==2.0.1) (2.0.12)\n",
      "Requirement already satisfied: pyasn1<0.5.0,>=0.4.6 in /opt/miniconda3/lib/python3.9/site-packages (from pyasn1-modules>=0.2.1->google-auth<2.0dev,>=1.25.0->google-api-core[grpc]<2.0.0dev,>=1.15.0->google-cloud-translate==2.0.1) (0.4.8)\n",
      "Installing collected packages: googleapis-common-protos, cachetools, google-auth, google-api-core, google-cloud-core, google-cloud-translate\n"
     ]
    },
    {
     "name": "stderr",
     "output_type": "stream",
     "text": [
      "ERROR: Could not install packages due to an OSError: [Errno 13] Permission denied: '/opt/miniconda3/lib/python3.9/site-packages/googleapis_common_protos-1.55.0-py3.10-nspkg.pth'\n",
      "Consider using the `--user` option or check the permissions.\n",
      "\n"
     ]
    },
    {
     "ename": "DistributionNotFound",
     "evalue": "The 'google-cloud-translate' distribution was not found and is required by the application",
     "output_type": "error",
     "traceback": [
      "\u001b[0;31m---------------------------------------------------------------------------\u001b[0m",
      "\u001b[0;31mDistributionNotFound\u001b[0m                      Traceback (most recent call last)",
      "\u001b[1;32m/home/quenouille/friends/NLP_CW/NLP_CW/jonas.ipynb Cell 1'\u001b[0m in \u001b[0;36m<module>\u001b[0;34m\u001b[0m\n\u001b[0;32m----> <a href='vscode-notebook-cell:/home/quenouille/friends/NLP_CW/NLP_CW/jonas.ipynb#ch0000000?line=0'>1</a>\u001b[0m \u001b[39mfrom\u001b[39;00m \u001b[39mdpm_preprocessing\u001b[39;00m \u001b[39mimport\u001b[39;00m DPMProprocessed\n\u001b[1;32m      <a href='vscode-notebook-cell:/home/quenouille/friends/NLP_CW/NLP_CW/jonas.ipynb#ch0000000?line=1'>2</a>\u001b[0m \u001b[39mimport\u001b[39;00m \u001b[39mtorch\u001b[39;00m\n\u001b[1;32m      <a href='vscode-notebook-cell:/home/quenouille/friends/NLP_CW/NLP_CW/jonas.ipynb#ch0000000?line=2'>3</a>\u001b[0m \u001b[39mfrom\u001b[39;00m \u001b[39mtransformers\u001b[39;00m \u001b[39mimport\u001b[39;00m RobertaForSequenceClassification, RobertaTokenizer, Trainer, TrainingArguments\n",
      "File \u001b[0;32m~/friends/NLP_CW/NLP_CW/dpm_preprocessing.py:6\u001b[0m, in \u001b[0;36m<module>\u001b[0;34m\u001b[0m\n\u001b[1;32m      <a href='file:///~/friends/NLP_CW/NLP_CW/dpm_preprocessing.py?line=3'>4</a>\u001b[0m \u001b[39mimport\u001b[39;00m \u001b[39mpandas\u001b[39;00m \u001b[39mas\u001b[39;00m \u001b[39mpd\u001b[39;00m\n\u001b[1;32m      <a href='file:///~/friends/NLP_CW/NLP_CW/dpm_preprocessing.py?line=4'>5</a>\u001b[0m \u001b[39mfrom\u001b[39;00m \u001b[39msklearn\u001b[39;00m\u001b[39m.\u001b[39;00m\u001b[39mmodel_selection\u001b[39;00m \u001b[39mimport\u001b[39;00m train_test_split\n\u001b[0;32m----> <a href='file:///~/friends/NLP_CW/NLP_CW/dpm_preprocessing.py?line=5'>6</a>\u001b[0m \u001b[39mfrom\u001b[39;00m \u001b[39mdata_augmentation\u001b[39;00m \u001b[39mimport\u001b[39;00m augment_substitute_with_context\n\u001b[1;32m      <a href='file:///~/friends/NLP_CW/NLP_CW/dpm_preprocessing.py?line=7'>8</a>\u001b[0m \u001b[39mclass\u001b[39;00m \u001b[39mDPMProprocessed\u001b[39;00m(DontPatronizeMe):\n\u001b[1;32m      <a href='file:///~/friends/NLP_CW/NLP_CW/dpm_preprocessing.py?line=8'>9</a>\u001b[0m     \u001b[39mdef\u001b[39;00m \u001b[39m__init__\u001b[39m(\u001b[39mself\u001b[39m, train_path, test_path):\n",
      "File \u001b[0;32m~/friends/NLP_CW/NLP_CW/data_augmentation.py:9\u001b[0m, in \u001b[0;36m<module>\u001b[0;34m\u001b[0m\n\u001b[1;32m      <a href='file:///~/friends/NLP_CW/NLP_CW/data_augmentation.py?line=6'>7</a>\u001b[0m \u001b[39mimport\u001b[39;00m \u001b[39mnltk\u001b[39;00m\n\u001b[1;32m      <a href='file:///~/friends/NLP_CW/NLP_CW/data_augmentation.py?line=7'>8</a>\u001b[0m \u001b[39mimport\u001b[39;00m \u001b[39mpandas\u001b[39;00m \u001b[39mas\u001b[39;00m \u001b[39mpd\u001b[39;00m\n\u001b[0;32m----> <a href='file:///~/friends/NLP_CW/NLP_CW/data_augmentation.py?line=8'>9</a>\u001b[0m \u001b[39mfrom\u001b[39;00m \u001b[39mback_translation\u001b[39;00m \u001b[39mimport\u001b[39;00m translate_text\n\u001b[1;32m     <a href='file:///~/friends/NLP_CW/NLP_CW/data_augmentation.py?line=10'>11</a>\u001b[0m nltk\u001b[39m.\u001b[39mdownload(\u001b[39m'\u001b[39m\u001b[39momw-1.4\u001b[39m\u001b[39m'\u001b[39m)\n\u001b[1;32m     <a href='file:///~/friends/NLP_CW/NLP_CW/data_augmentation.py?line=11'>12</a>\u001b[0m nltk\u001b[39m.\u001b[39mdownload(\u001b[39m'\u001b[39m\u001b[39maveraged_perceptron_tagger\u001b[39m\u001b[39m'\u001b[39m)\n",
      "File \u001b[0;32m~/friends/NLP_CW/NLP_CW/back_translation.py:9\u001b[0m, in \u001b[0;36m<module>\u001b[0;34m\u001b[0m\n\u001b[1;32m      <a href='file:///~/friends/NLP_CW/NLP_CW/back_translation.py?line=5'>6</a>\u001b[0m \u001b[39mimport\u001b[39;00m \u001b[39msix\u001b[39;00m\n\u001b[1;32m      <a href='file:///~/friends/NLP_CW/NLP_CW/back_translation.py?line=7'>8</a>\u001b[0m \u001b[39mimport\u001b[39;00m \u001b[39msix\u001b[39;00m\n\u001b[0;32m----> <a href='file:///~/friends/NLP_CW/NLP_CW/back_translation.py?line=8'>9</a>\u001b[0m \u001b[39mfrom\u001b[39;00m \u001b[39mgoogle\u001b[39;00m\u001b[39m.\u001b[39;00m\u001b[39mcloud\u001b[39;00m \u001b[39mimport\u001b[39;00m translate_v2 \u001b[39mas\u001b[39;00m translate\n\u001b[1;32m     <a href='file:///~/friends/NLP_CW/NLP_CW/back_translation.py?line=10'>11</a>\u001b[0m \u001b[39m# os.system(\"python -m pip install google-cloud-translate==2.0.1\")\u001b[39;00m\n\u001b[1;32m     <a href='file:///~/friends/NLP_CW/NLP_CW/back_translation.py?line=12'>13</a>\u001b[0m \u001b[39mdef\u001b[39;00m \u001b[39mtranslate_text\u001b[39m(text):\n",
      "File \u001b[0;32m~/.local/lib/python3.9/site-packages/google/cloud/translate_v2/__init__.py:20\u001b[0m, in \u001b[0;36m<module>\u001b[0;34m\u001b[0m\n\u001b[1;32m     <a href='file:///~/.local/lib/python3.9/site-packages/google/cloud/translate_v2/__init__.py?line=14'>15</a>\u001b[0m \u001b[39m\"\"\"Google Cloud Translation API wrapper.\"\"\"\u001b[39;00m\n\u001b[1;32m     <a href='file:///~/.local/lib/python3.9/site-packages/google/cloud/translate_v2/__init__.py?line=17'>18</a>\u001b[0m \u001b[39mfrom\u001b[39;00m \u001b[39mpkg_resources\u001b[39;00m \u001b[39mimport\u001b[39;00m get_distribution\n\u001b[0;32m---> <a href='file:///~/.local/lib/python3.9/site-packages/google/cloud/translate_v2/__init__.py?line=19'>20</a>\u001b[0m __version__ \u001b[39m=\u001b[39m get_distribution(\u001b[39m\"\u001b[39;49m\u001b[39mgoogle-cloud-translate\u001b[39;49m\u001b[39m\"\u001b[39;49m)\u001b[39m.\u001b[39mversion\n\u001b[1;32m     <a href='file:///~/.local/lib/python3.9/site-packages/google/cloud/translate_v2/__init__.py?line=21'>22</a>\u001b[0m \u001b[39mfrom\u001b[39;00m \u001b[39mgoogle\u001b[39;00m\u001b[39m.\u001b[39;00m\u001b[39mcloud\u001b[39;00m\u001b[39m.\u001b[39;00m\u001b[39mtranslate_v2\u001b[39;00m\u001b[39m.\u001b[39;00m\u001b[39mclient\u001b[39;00m \u001b[39mimport\u001b[39;00m Client\n\u001b[1;32m     <a href='file:///~/.local/lib/python3.9/site-packages/google/cloud/translate_v2/__init__.py?line=24'>25</a>\u001b[0m __all__ \u001b[39m=\u001b[39m (\u001b[39m\"\u001b[39m\u001b[39m__version__\u001b[39m\u001b[39m\"\u001b[39m, \u001b[39m\"\u001b[39m\u001b[39mClient\u001b[39m\u001b[39m\"\u001b[39m)\n",
      "File \u001b[0;32m/opt/miniconda3/lib/python3.9/site-packages/pkg_resources/__init__.py:477\u001b[0m, in \u001b[0;36mget_distribution\u001b[0;34m(dist)\u001b[0m\n\u001b[1;32m    <a href='file:///opt/miniconda3/lib/python3.9/site-packages/pkg_resources/__init__.py?line=474'>475</a>\u001b[0m     dist \u001b[39m=\u001b[39m Requirement\u001b[39m.\u001b[39mparse(dist)\n\u001b[1;32m    <a href='file:///opt/miniconda3/lib/python3.9/site-packages/pkg_resources/__init__.py?line=475'>476</a>\u001b[0m \u001b[39mif\u001b[39;00m \u001b[39misinstance\u001b[39m(dist, Requirement):\n\u001b[0;32m--> <a href='file:///opt/miniconda3/lib/python3.9/site-packages/pkg_resources/__init__.py?line=476'>477</a>\u001b[0m     dist \u001b[39m=\u001b[39m get_provider(dist)\n\u001b[1;32m    <a href='file:///opt/miniconda3/lib/python3.9/site-packages/pkg_resources/__init__.py?line=477'>478</a>\u001b[0m \u001b[39mif\u001b[39;00m \u001b[39mnot\u001b[39;00m \u001b[39misinstance\u001b[39m(dist, Distribution):\n\u001b[1;32m    <a href='file:///opt/miniconda3/lib/python3.9/site-packages/pkg_resources/__init__.py?line=478'>479</a>\u001b[0m     \u001b[39mraise\u001b[39;00m \u001b[39mTypeError\u001b[39;00m(\u001b[39m\"\u001b[39m\u001b[39mExpected string, Requirement, or Distribution\u001b[39m\u001b[39m\"\u001b[39m, dist)\n",
      "File \u001b[0;32m/opt/miniconda3/lib/python3.9/site-packages/pkg_resources/__init__.py:353\u001b[0m, in \u001b[0;36mget_provider\u001b[0;34m(moduleOrReq)\u001b[0m\n\u001b[1;32m    <a href='file:///opt/miniconda3/lib/python3.9/site-packages/pkg_resources/__init__.py?line=350'>351</a>\u001b[0m \u001b[39m\"\"\"Return an IResourceProvider for the named module or requirement\"\"\"\u001b[39;00m\n\u001b[1;32m    <a href='file:///opt/miniconda3/lib/python3.9/site-packages/pkg_resources/__init__.py?line=351'>352</a>\u001b[0m \u001b[39mif\u001b[39;00m \u001b[39misinstance\u001b[39m(moduleOrReq, Requirement):\n\u001b[0;32m--> <a href='file:///opt/miniconda3/lib/python3.9/site-packages/pkg_resources/__init__.py?line=352'>353</a>\u001b[0m     \u001b[39mreturn\u001b[39;00m working_set\u001b[39m.\u001b[39mfind(moduleOrReq) \u001b[39mor\u001b[39;00m require(\u001b[39mstr\u001b[39;49m(moduleOrReq))[\u001b[39m0\u001b[39m]\n\u001b[1;32m    <a href='file:///opt/miniconda3/lib/python3.9/site-packages/pkg_resources/__init__.py?line=353'>354</a>\u001b[0m \u001b[39mtry\u001b[39;00m:\n\u001b[1;32m    <a href='file:///opt/miniconda3/lib/python3.9/site-packages/pkg_resources/__init__.py?line=354'>355</a>\u001b[0m     module \u001b[39m=\u001b[39m sys\u001b[39m.\u001b[39mmodules[moduleOrReq]\n",
      "File \u001b[0;32m/opt/miniconda3/lib/python3.9/site-packages/pkg_resources/__init__.py:897\u001b[0m, in \u001b[0;36mWorkingSet.require\u001b[0;34m(self, *requirements)\u001b[0m\n\u001b[1;32m    <a href='file:///opt/miniconda3/lib/python3.9/site-packages/pkg_resources/__init__.py?line=887'>888</a>\u001b[0m \u001b[39mdef\u001b[39;00m \u001b[39mrequire\u001b[39m(\u001b[39mself\u001b[39m, \u001b[39m*\u001b[39mrequirements):\n\u001b[1;32m    <a href='file:///opt/miniconda3/lib/python3.9/site-packages/pkg_resources/__init__.py?line=888'>889</a>\u001b[0m     \u001b[39m\"\"\"Ensure that distributions matching `requirements` are activated\u001b[39;00m\n\u001b[1;32m    <a href='file:///opt/miniconda3/lib/python3.9/site-packages/pkg_resources/__init__.py?line=889'>890</a>\u001b[0m \n\u001b[1;32m    <a href='file:///opt/miniconda3/lib/python3.9/site-packages/pkg_resources/__init__.py?line=890'>891</a>\u001b[0m \u001b[39m    `requirements` must be a string or a (possibly-nested) sequence\u001b[39;00m\n\u001b[0;32m   (...)\u001b[0m\n\u001b[1;32m    <a href='file:///opt/miniconda3/lib/python3.9/site-packages/pkg_resources/__init__.py?line=894'>895</a>\u001b[0m \u001b[39m    included, even if they were already activated in this working set.\u001b[39;00m\n\u001b[1;32m    <a href='file:///opt/miniconda3/lib/python3.9/site-packages/pkg_resources/__init__.py?line=895'>896</a>\u001b[0m \u001b[39m    \"\"\"\u001b[39;00m\n\u001b[0;32m--> <a href='file:///opt/miniconda3/lib/python3.9/site-packages/pkg_resources/__init__.py?line=896'>897</a>\u001b[0m     needed \u001b[39m=\u001b[39m \u001b[39mself\u001b[39;49m\u001b[39m.\u001b[39;49mresolve(parse_requirements(requirements))\n\u001b[1;32m    <a href='file:///opt/miniconda3/lib/python3.9/site-packages/pkg_resources/__init__.py?line=898'>899</a>\u001b[0m     \u001b[39mfor\u001b[39;00m dist \u001b[39min\u001b[39;00m needed:\n\u001b[1;32m    <a href='file:///opt/miniconda3/lib/python3.9/site-packages/pkg_resources/__init__.py?line=899'>900</a>\u001b[0m         \u001b[39mself\u001b[39m\u001b[39m.\u001b[39madd(dist)\n",
      "File \u001b[0;32m/opt/miniconda3/lib/python3.9/site-packages/pkg_resources/__init__.py:783\u001b[0m, in \u001b[0;36mWorkingSet.resolve\u001b[0;34m(self, requirements, env, installer, replace_conflicting, extras)\u001b[0m\n\u001b[1;32m    <a href='file:///opt/miniconda3/lib/python3.9/site-packages/pkg_resources/__init__.py?line=780'>781</a>\u001b[0m         \u001b[39mif\u001b[39;00m dist \u001b[39mis\u001b[39;00m \u001b[39mNone\u001b[39;00m:\n\u001b[1;32m    <a href='file:///opt/miniconda3/lib/python3.9/site-packages/pkg_resources/__init__.py?line=781'>782</a>\u001b[0m             requirers \u001b[39m=\u001b[39m required_by\u001b[39m.\u001b[39mget(req, \u001b[39mNone\u001b[39;00m)\n\u001b[0;32m--> <a href='file:///opt/miniconda3/lib/python3.9/site-packages/pkg_resources/__init__.py?line=782'>783</a>\u001b[0m             \u001b[39mraise\u001b[39;00m DistributionNotFound(req, requirers)\n\u001b[1;32m    <a href='file:///opt/miniconda3/lib/python3.9/site-packages/pkg_resources/__init__.py?line=783'>784</a>\u001b[0m     to_activate\u001b[39m.\u001b[39mappend(dist)\n\u001b[1;32m    <a href='file:///opt/miniconda3/lib/python3.9/site-packages/pkg_resources/__init__.py?line=784'>785</a>\u001b[0m \u001b[39mif\u001b[39;00m dist \u001b[39mnot\u001b[39;00m \u001b[39min\u001b[39;00m req:\n\u001b[1;32m    <a href='file:///opt/miniconda3/lib/python3.9/site-packages/pkg_resources/__init__.py?line=785'>786</a>\u001b[0m     \u001b[39m# Oops, the \"best\" so far conflicts with a dependency\u001b[39;00m\n",
      "\u001b[0;31mDistributionNotFound\u001b[0m: The 'google-cloud-translate' distribution was not found and is required by the application"
     ]
    }
   ],
   "source": [
    "from dpm_preprocessing import DPMProprocessed\n",
    "import torch\n",
    "from transformers import RobertaForSequenceClassification, RobertaTokenizer, Trainer, TrainingArguments\n",
    "import torch.nn as nn\n",
    "\n",
    "cuda_available = torch.cuda.is_available()\n",
    "\n",
    "if cuda_available:\n",
    "    device = torch.device(\"cuda\"  if torch.cuda.is_available() else \"cpu\")\n",
    "else:\n",
    "    device = torch.device(\"cpu\")\n",
    "\n",
    "import os\n",
    "os.environ[\"WANDB_DISABLED\"] = \"true\""
   ]
  },
  {
   "cell_type": "code",
   "execution_count": null,
   "metadata": {},
   "outputs": [],
   "source": [
    "dpm_pp = DPMProprocessed('.', 'task4_test.tsv')\n",
    "train_df, val_df = dpm_pp.get_unbalanced_split()\n",
    "\n",
    "print(\"Training set length: \",len(train_df))\n",
    "print(\"Validation set length: \",len(val_df))"
   ]
  },
  {
   "cell_type": "code",
   "execution_count": null,
   "metadata": {},
   "outputs": [],
   "source": [
    "MAX_SEQ_LEN = 256\n",
    "class PCLDataset(torch.utils.data.Dataset):\n",
    "\n",
    "    def __init__(self, tokenizer, input_set):\n",
    "\n",
    "        self.tokenizer = tokenizer\n",
    "        self.texts = list(input_set['text'])\n",
    "        self.labels = list(input_set['label'])\n",
    "        \n",
    "    def collate_fn(self, batch):\n",
    "\n",
    "        texts = []\n",
    "        labels = []\n",
    "\n",
    "        for b in batch:\n",
    "            texts.append(b['text'])\n",
    "            labels.append(b['label'])\n",
    "\n",
    "        encodings = self.tokenizer(texts, return_tensors='pt', padding=True, truncation=True, max_length=MAX_SEQ_LEN)\n",
    "        encodings['labels'] =  torch.tensor(labels)\n",
    "        return encodings\n",
    "    \n",
    "    def __len__(self):\n",
    "        return len(self.texts)\n",
    "\n",
    "    def __getitem__(self, idx):\n",
    "       \n",
    "        item = {'text': self.texts[idx],\n",
    "                'label': self.labels[idx]}\n",
    "        return item\n"
   ]
  },
  {
   "cell_type": "code",
   "execution_count": null,
   "metadata": {},
   "outputs": [],
   "source": [
    "tokenizer = RobertaTokenizer.from_pretrained(\"roberta-base\")\n",
    "\n",
    "train_dataset = PCLDataset(tokenizer, train_df)\n",
    "test_dataset = PCLDataset(tokenizer, val_df)\n"
   ]
  },
  {
   "cell_type": "code",
   "execution_count": null,
   "metadata": {},
   "outputs": [],
   "source": [
    "# put all train set into one batch for the collate_fn function\n",
    "# batch = [sample for sample in train_dataset]\n",
    "\n",
    "# encodings = train_dataset.collate_fn(batch[:10])\n",
    "\n",
    "# for key, value in encodings.items():\n",
    "#   print(f\"{key}: {value.numpy().tolist()}\")"
   ]
  },
  {
   "cell_type": "code",
   "execution_count": null,
   "metadata": {},
   "outputs": [],
   "source": [
    "model = RobertaForSequenceClassification.from_pretrained(\"roberta-base\").to(device)"
   ]
  },
  {
   "cell_type": "code",
   "execution_count": null,
   "metadata": {},
   "outputs": [],
   "source": [
    "# inputs = tokenizer(\"Hello, my dog is cute\", return_tensors=\"pt\")\n",
    "\n",
    "\n",
    "# inputs['labels'] =  torch.tensor([1]).unsqueeze(0)\n",
    "# inputs.to(device)\n",
    "\n",
    "# outputs = model(**inputs)\n",
    "\n",
    "# loss = outputs.loss\n",
    "\n",
    "# logits = outputs.logits"
   ]
  },
  {
   "cell_type": "code",
   "execution_count": null,
   "metadata": {},
   "outputs": [],
   "source": [
    "class CustomTrainer(Trainer):\n",
    "    def compute_loss(self, model, inputs):\n",
    "        labels = inputs.get(\"labels\")\n",
    "        # forward pass\n",
    "        outputs = model(**inputs)\n",
    "        logits = outputs.logits\n",
    "        # compute custom loss (suppose one has 3 labels with different weights)\n",
    "        loss_fct = nn.CrossEntropyLoss(weight=torch.tensor([1.0, 10.0]).to(device))\n",
    "        loss = loss_fct(logits.view(-1, self.model.config.num_labels), labels.view(-1))\n",
    "        return loss"
   ]
  },
  {
   "cell_type": "code",
   "execution_count": null,
   "metadata": {},
   "outputs": [],
   "source": [
    "training_args = TrainingArguments(\n",
    "        output_dir='./experiment/pcl',\n",
    "        learning_rate = 0.0001,\n",
    "        logging_steps= 100,\n",
    "        per_device_train_batch_size=12,\n",
    "        num_train_epochs = 3,\n",
    "    )\n",
    "\n",
    "trainer = CustomTrainer(\n",
    "        model=model,                         \n",
    "        args=training_args,                 \n",
    "        train_dataset=train_dataset,                   \n",
    "        data_collator=train_dataset.collate_fn\n",
    "    )\n",
    "trainer.train()"
   ]
  },
  {
   "cell_type": "code",
   "execution_count": null,
   "metadata": {},
   "outputs": [],
   "source": []
  }
 ],
 "metadata": {
  "interpreter": {
   "hash": "3d597f4c481aa0f25dceb95d2a0067e73c0966dcbd003d741d821a7208527ecf"
  },
  "kernelspec": {
   "display_name": "Python 3.9.10 ('base')",
   "language": "python",
   "name": "python3"
  },
  "language_info": {
   "codemirror_mode": {
    "name": "ipython",
    "version": 3
   },
   "file_extension": ".py",
   "mimetype": "text/x-python",
   "name": "python",
   "nbconvert_exporter": "python",
   "pygments_lexer": "ipython3",
   "version": "3.9.10"
  },
  "orig_nbformat": 4
 },
 "nbformat": 4,
 "nbformat_minor": 2
}
