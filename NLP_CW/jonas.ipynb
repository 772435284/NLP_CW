{
 "cells": [
  {
   "cell_type": "code",
   "execution_count": 1,
   "metadata": {},
   "outputs": [
    {
     "name": "stdout",
     "output_type": "stream",
     "text": [
      "Defaulting to user installation because normal site-packages is not writeable\n",
      "Requirement already satisfied: contractions in /home/jason/.local/lib/python3.8/site-packages (0.1.66)\n",
      "Requirement already satisfied: textsearch>=0.0.21 in /home/jason/.local/lib/python3.8/site-packages (from contractions) (0.0.21)\n",
      "Requirement already satisfied: anyascii in /home/jason/.local/lib/python3.8/site-packages (from textsearch>=0.0.21->contractions) (0.3.0)\n",
      "Requirement already satisfied: pyahocorasick in /home/jason/.local/lib/python3.8/site-packages (from textsearch>=0.0.21->contractions) (1.4.4)\n"
     ]
    }
   ],
   "source": [
    "import os\n",
    "from dpm_preprocessing import DPMProprocessed\n",
    "import torch\n",
    "#from transformers import RobertaForSequenceClassification, RobertaTokenizer, Trainer, TrainingArguments, RobertaConfig\n",
    "from transformers import AutoConfig, AutoModelForSequenceClassification, AutoTokenizer, Trainer, TrainingArguments\n",
    "import torch.nn as nn\n",
    "from torch.utils.data import DataLoader\n",
    "import numpy as np\n",
    "from sklearn.metrics import classification_report\n",
    "import pandas as pd\n",
    "from sklearn.metrics import f1_score\n",
    "import yaml\n",
    "from api_types import GlobalConfig\n",
    "device = torch.device(\"cuda\"  if torch.cuda.is_available() else \"cpu\")"
   ]
  },
  {
   "cell_type": "code",
   "execution_count": 2,
   "metadata": {},
   "outputs": [],
   "source": [
    "config_filename = 'config.yml'\n",
    "with open(config_filename, 'r', encoding='utf-8') as f:\n",
    "    args = yaml.safe_load(f)\n",
    "    config = GlobalConfig(**args)"
   ]
  },
  {
   "cell_type": "code",
   "execution_count": null,
   "metadata": {},
   "outputs": [],
   "source": [
    "MAX_SEQ_LEN = 256\n",
    "os.environ[\"WANDB_DISABLED\"] = \"true\"\n",
    "model_name = config.model_name\n",
    "model_path = f'./models/pcl_{model_name}_finetuned/model/'\n",
    "tokenizer_path = f'./models/pcl_{model_name}_finetuned/tokenizer/'"
   ]
  },
  {
   "cell_type": "code",
   "execution_count": null,
   "metadata": {},
   "outputs": [],
   "source": [
    "class PCLDataset(torch.utils.data.Dataset):\n",
    "\n",
    "    def __init__(self, tokenizer, input_set):\n",
    "\n",
    "        self.tokenizer = tokenizer\n",
    "        self.texts = list(input_set['text'])\n",
    "        self.labels = list(input_set['label'])\n",
    "        \n",
    "    def collate_fn(self, batch):\n",
    "\n",
    "        texts = []\n",
    "        labels = []\n",
    "\n",
    "        for b in batch:\n",
    "            texts.append(b['text'])\n",
    "            labels.append(b['label'])\n",
    "\n",
    "        encodings = self.tokenizer(texts, return_tensors='pt', padding=True, truncation=True, max_length=MAX_SEQ_LEN)\n",
    "        encodings['labels'] =  torch.tensor(labels)\n",
    "        return encodings\n",
    "    \n",
    "    def __len__(self):\n",
    "        return len(self.texts)\n",
    "\n",
    "    def __getitem__(self, idx):\n",
    "       \n",
    "        item = {'text': self.texts[idx],\n",
    "                'label': self.labels[idx]}\n",
    "        return item"
   ]
  },
  {
   "cell_type": "code",
   "execution_count": null,
   "metadata": {},
   "outputs": [],
   "source": [
    "config = AutoConfig.from_pretrained(model_name)\n",
    "tokenizer = AutoTokenizer.from_pretrained(model_name)\n",
    "model = AutoModelForSequenceClassification.from_pretrained(model_name , config = config).to(device)\n"
   ]
  },
  {
   "cell_type": "code",
   "execution_count": null,
   "metadata": {},
   "outputs": [],
   "source": [
    "dpm_pp = DPMProprocessed('.', 'task4_test.tsv')\n",
    "\n",
    "if not os.path.isfile('traindf.pickle') or not os.path.isfile('valdf.pickle'):\n",
    "  train_df, val_df = dpm_pp.get_unbalanced_split(0.1)\n",
    "  train_df.to_pickle('traindf.pickle')\n",
    "  val_df.to_pickle('valdf.pickle')\n",
    "else:\n",
    "  train_df = pd.read_pickle('traindf.pickle')\n",
    "  val_df = pd.read_pickle('valdf.pickle')\n",
    "\n",
    "print(\"Training set length: \",len(train_df))\n",
    "print(\"Validation set length: \",len(val_df))\n",
    "\n",
    "train_dataset = PCLDataset(tokenizer, train_df)\n",
    "eval_dataset = PCLDataset(tokenizer, val_df)\n"
   ]
  },
  {
   "cell_type": "code",
   "execution_count": null,
   "metadata": {},
   "outputs": [],
   "source": [
    "class CustomTrainer(Trainer):\n",
    "    def compute_loss(self, model, inputs, return_outputs=False):\n",
    "        labels = inputs.get(\"labels\")\n",
    "        # forward pass\n",
    "        outputs = model(**inputs)\n",
    "        logits = outputs.logits\n",
    "\n",
    "        loss_fct = nn.CrossEntropyLoss(weight=torch.tensor([1.0, 10.0]).to(device))\n",
    "        loss = loss_fct(logits.view(-1, self.model.config.num_labels), labels.view(-1))\n",
    "        return ((loss, outputs) if return_outputs else loss)"
   ]
  },
  {
   "cell_type": "code",
   "execution_count": null,
   "metadata": {},
   "outputs": [],
   "source": [
    "validation_loader = DataLoader(eval_dataset)\n",
    "def compute_metric_eval(arg):\n",
    "    logits, labels_gold = arg[0], arg[1]\n",
    "    labels_pred = np.argmax(logits, axis = 1)\n",
    "    return {'f1_macro' :f1_score(labels_gold, labels_pred, average='macro') } #more metrics can be added\n",
    "\n",
    "training_args = TrainingArguments(\n",
    "        output_dir=f'./experiment/pcl/{model_name}/',\n",
    "        learning_rate = float(config.learning_rate),\n",
    "        logging_steps= config.logging_steps,\n",
    "        eval_steps = config.eval_steps,\n",
    "        per_device_train_batch_size=config.per_device_eval_batch_size,\n",
    "        per_device_eval_batch_size = config.per_device_eval_batch_size,\n",
    "        num_train_epochs = config.num_train_epochs,\n",
    "        evaluation_strategy= \"steps\"\n",
    "        )\n",
    "\n",
    "trainer = CustomTrainer(\n",
    "        model=model,                         \n",
    "        args=training_args,                 \n",
    "        train_dataset=train_dataset,                   \n",
    "        data_collator=eval_dataset.collate_fn,\n",
    "        compute_metrics = compute_metric_eval,\n",
    "        eval_dataset = eval_dataset\n",
    "    )\n",
    "trainer.train()"
   ]
  },
  {
   "cell_type": "code",
   "execution_count": null,
   "metadata": {},
   "outputs": [],
   "source": [
    "trainer.save_model(model_path)\n",
    "tokenizer.save_pretrained(tokenizer_path)\n",
    "\n",
    "train_df.to_pickle('train_df.pickle')\n",
    "val_df.to_pickle('val_df.pickle')"
   ]
  },
  {
   "cell_type": "code",
   "execution_count": null,
   "metadata": {},
   "outputs": [],
   "source": [
    "config = AutoConfig.from_pretrained(model_name)\n",
    "tokenizer = AutoTokenizer.from_pretrained(tokenizer_path)\n",
    "model = AutoModelForSequenceClassification.from_pretrained(model_path , config = config).to(device)\n"
   ]
  },
  {
   "cell_type": "code",
   "execution_count": null,
   "metadata": {},
   "outputs": [],
   "source": [
    "\n",
    "train_df = pd.read_pickle('train_df.pickle')\n",
    "val_df = pd.read_pickle('val_df.pickle')\n",
    "\n",
    "train_dataset = PCLDataset(tokenizer, train_df)\n",
    "eval_dataset = PCLDataset(tokenizer, val_df)"
   ]
  },
  {
   "cell_type": "code",
   "execution_count": null,
   "metadata": {},
   "outputs": [],
   "source": [
    "def predict_pcl(input, tokenizer, model): \n",
    "  model.eval()\n",
    "  encodings = tokenizer(input, return_tensors='pt', padding=True, truncation=True, max_length=256)\n",
    "  encodings = encodings.to(device)\n",
    "  output = model(**encodings)\n",
    "  logits = output.logits\n",
    "  preds = torch.max(logits, 1)\n",
    "\n",
    "  return {'prediction':preds[1], 'confidence':preds[0]}\n",
    "\n",
    "def evaluate(model, tokenizer, data_loader):\n",
    "\n",
    "  preds = []\n",
    "  tot_labels = []\n",
    "\n",
    "  with torch.no_grad():\n",
    "    for data in (data_loader): \n",
    "\n",
    "      labels = {}\n",
    "      labels['label'] = data['label']\n",
    "\n",
    "      tweets = data['text']\n",
    "\n",
    "      pred = predict_pcl(tweets, tokenizer, model)\n",
    "\n",
    "      preds.append(np.array(pred['prediction'].cpu()))\n",
    "      tot_labels.append(np.array(labels['label'].cpu()))\n",
    "\n",
    "  # with the saved predictions and labels we can compute accuracy, precision, recall and f1-score\n",
    "  \n",
    "\n",
    "  return preds, tot_labels"
   ]
  },
  {
   "cell_type": "code",
   "execution_count": null,
   "metadata": {},
   "outputs": [],
   "source": [
    "validation_loader = DataLoader(eval_dataset)\n",
    "\n",
    "preds, tot_labels = evaluate(model, tokenizer, validation_loader)\n",
    "tot_labels = np.array(tot_labels)\n",
    "preds = np.array(preds)\n",
    "report = classification_report(tot_labels, preds, target_names=[\"Not PCL\",\"PCL\"], output_dict= True)\n",
    "print(report)\n",
    "\n",
    "print(report['accuracy'])\n",
    "print(report['Not PCL']['f1-score'])\n",
    "print(report['PCL']['f1-score'])"
   ]
  }
 ],
 "metadata": {
  "interpreter": {
   "hash": "3d597f4c481aa0f25dceb95d2a0067e73c0966dcbd003d741d821a7208527ecf"
  },
  "kernelspec": {
   "display_name": "Python 3.9.10 ('base')",
   "language": "python",
   "name": "python3"
  },
  "language_info": {
   "codemirror_mode": {
    "name": "ipython",
    "version": 3
   },
   "file_extension": ".py",
   "mimetype": "text/x-python",
   "name": "python",
   "nbconvert_exporter": "python",
   "pygments_lexer": "ipython3",
   "version": "3.8.12"
  },
  "orig_nbformat": 4
 },
 "nbformat": 4,
 "nbformat_minor": 2
}
