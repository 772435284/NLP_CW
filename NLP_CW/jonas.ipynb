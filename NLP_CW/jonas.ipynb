{
 "cells": [
  {
   "cell_type": "code",
   "execution_count": 1,
   "metadata": {},
   "outputs": [
    {
     "name": "stdout",
     "output_type": "stream",
     "text": [
      "Looking in indexes: https://mirrors.aliyun.com/pypi/simple\n",
      "Requirement already satisfied: nltk in /usr/local/lib/python3.8/dist-packages (3.7)\n",
      "Requirement already satisfied: regex>=2021.8.3 in /usr/local/lib/python3.8/dist-packages (from nltk) (2022.1.18)\n",
      "Requirement already satisfied: joblib in /usr/local/lib/python3.8/dist-packages (from nltk) (1.1.0)\n",
      "Requirement already satisfied: click in /usr/local/lib/python3.8/dist-packages (from nltk) (8.0.3)\n",
      "Requirement already satisfied: tqdm in /usr/local/lib/python3.8/dist-packages (from nltk) (4.62.3)\n",
      "\u001b[33mWARNING: You are using pip version 21.0.1; however, version 22.0.3 is available.\n",
      "You should consider upgrading via the '/usr/local/bin/python -m pip install --upgrade pip' command.\u001b[0m\n",
      "Looking in indexes: https://mirrors.aliyun.com/pypi/simple\n",
      "Requirement already satisfied: wordcloud in /usr/local/lib/python3.8/dist-packages (1.8.1)\n",
      "Requirement already satisfied: pillow in /usr/local/lib/python3.8/dist-packages (from wordcloud) (8.4.0)\n",
      "Requirement already satisfied: matplotlib in /usr/local/lib/python3.8/dist-packages (from wordcloud) (3.4.3)\n",
      "Requirement already satisfied: numpy>=1.6.1 in /usr/local/lib/python3.8/dist-packages (from wordcloud) (1.21.3)\n",
      "Requirement already satisfied: python-dateutil>=2.7 in /usr/local/lib/python3.8/dist-packages (from matplotlib->wordcloud) (2.8.2)\n",
      "Requirement already satisfied: cycler>=0.10 in /usr/local/lib/python3.8/dist-packages (from matplotlib->wordcloud) (0.10.0)\n",
      "Requirement already satisfied: pyparsing>=2.2.1 in /usr/local/lib/python3.8/dist-packages (from matplotlib->wordcloud) (3.0.1)\n",
      "Requirement already satisfied: kiwisolver>=1.0.1 in /usr/local/lib/python3.8/dist-packages (from matplotlib->wordcloud) (1.3.2)\n",
      "Requirement already satisfied: six in /usr/local/lib/python3.8/dist-packages (from cycler>=0.10->matplotlib->wordcloud) (1.16.0)\n",
      "\u001b[33mWARNING: You are using pip version 21.0.1; however, version 22.0.3 is available.\n",
      "You should consider upgrading via the '/usr/local/bin/python -m pip install --upgrade pip' command.\u001b[0m\n",
      "Looking in indexes: https://mirrors.aliyun.com/pypi/simple\n",
      "Requirement already satisfied: Unidecode in /usr/local/lib/python3.8/dist-packages (1.3.3)\n",
      "\u001b[33mWARNING: You are using pip version 21.0.1; however, version 22.0.3 is available.\n",
      "You should consider upgrading via the '/usr/local/bin/python -m pip install --upgrade pip' command.\u001b[0m\n",
      "Looking in indexes: https://mirrors.aliyun.com/pypi/simple\n",
      "Requirement already satisfied: beautifulsoup4 in /usr/local/lib/python3.8/dist-packages (4.10.0)\n",
      "Requirement already satisfied: soupsieve>1.2 in /usr/local/lib/python3.8/dist-packages (from beautifulsoup4) (2.3.1)\n",
      "\u001b[33mWARNING: You are using pip version 21.0.1; however, version 22.0.3 is available.\n",
      "You should consider upgrading via the '/usr/local/bin/python -m pip install --upgrade pip' command.\u001b[0m\n"
     ]
    }
   ],
   "source": [
    "#dependencies\n",
    "! python -m pip install nltk\n",
    "! python -m pip install wordcloud\n",
    "! python -m pip install Unidecode\n",
    "! python -m pip install beautifulsoup4"
   ]
  },
  {
   "cell_type": "code",
   "execution_count": 2,
   "metadata": {},
   "outputs": [
    {
     "name": "stdout",
     "output_type": "stream",
     "text": [
      "Looking in indexes: https://mirrors.aliyun.com/pypi/simple\n",
      "Requirement already satisfied: contractions in /usr/local/lib/python3.8/dist-packages (0.1.66)\n",
      "Requirement already satisfied: textsearch>=0.0.21 in /usr/local/lib/python3.8/dist-packages (from contractions) (0.0.21)\n",
      "Requirement already satisfied: pyahocorasick in /usr/local/lib/python3.8/dist-packages (from textsearch>=0.0.21->contractions) (1.4.4)\n",
      "Requirement already satisfied: anyascii in /usr/local/lib/python3.8/dist-packages (from textsearch>=0.0.21->contractions) (0.3.0)\n"
     ]
    },
    {
     "name": "stderr",
     "output_type": "stream",
     "text": [
      "WARNING: You are using pip version 21.0.1; however, version 22.0.3 is available.\n",
      "You should consider upgrading via the '/usr/local/bin/python -m pip install --upgrade pip' command.\n"
     ]
    },
    {
     "name": "stdout",
     "output_type": "stream",
     "text": [
      "Looking in indexes: https://mirrors.aliyun.com/pypi/simple\n",
      "Requirement already satisfied: nlpaug in /usr/local/lib/python3.8/dist-packages (1.1.10)\n",
      "Requirement already satisfied: numpy>=1.16.2 in /usr/local/lib/python3.8/dist-packages (from nlpaug) (1.21.3)\n",
      "Requirement already satisfied: requests>=2.22.0 in /usr/local/lib/python3.8/dist-packages (from nlpaug) (2.26.0)\n",
      "Requirement already satisfied: pandas>=1.2.0 in /usr/local/lib/python3.8/dist-packages (from nlpaug) (1.4.1)\n",
      "Requirement already satisfied: python-dateutil>=2.8.1 in /usr/local/lib/python3.8/dist-packages (from pandas>=1.2.0->nlpaug) (2.8.2)\n",
      "Requirement already satisfied: pytz>=2020.1 in /usr/local/lib/python3.8/dist-packages (from pandas>=1.2.0->nlpaug) (2021.3)\n",
      "Requirement already satisfied: six>=1.5 in /usr/local/lib/python3.8/dist-packages (from python-dateutil>=2.8.1->pandas>=1.2.0->nlpaug) (1.16.0)\n",
      "Requirement already satisfied: idna<4,>=2.5 in /usr/local/lib/python3.8/dist-packages (from requests>=2.22.0->nlpaug) (3.3)\n",
      "Requirement already satisfied: charset-normalizer~=2.0.0 in /usr/local/lib/python3.8/dist-packages (from requests>=2.22.0->nlpaug) (2.0.7)\n",
      "Requirement already satisfied: certifi>=2017.4.17 in /usr/lib/python3/dist-packages (from requests>=2.22.0->nlpaug) (2018.1.18)\n",
      "Requirement already satisfied: urllib3<1.27,>=1.21.1 in /usr/lib/python3/dist-packages (from requests>=2.22.0->nlpaug) (1.22)\n"
     ]
    },
    {
     "name": "stderr",
     "output_type": "stream",
     "text": [
      "WARNING: You are using pip version 21.0.1; however, version 22.0.3 is available.\n",
      "You should consider upgrading via the '/usr/local/bin/python -m pip install --upgrade pip' command.\n",
      "[nltk_data] Downloading package omw-1.4 to /root/nltk_data...\n",
      "[nltk_data]   Package omw-1.4 is already up-to-date!\n",
      "[nltk_data] Downloading package averaged_perceptron_tagger to\n",
      "[nltk_data]     /root/nltk_data...\n",
      "[nltk_data]   Package averaged_perceptron_tagger is already up-to-\n",
      "[nltk_data]       date!\n",
      "[nltk_data] Downloading package wordnet to /root/nltk_data...\n",
      "[nltk_data]   Package wordnet is already up-to-date!\n"
     ]
    }
   ],
   "source": [
    "from dpm_preprocessing import DPMProprocessed\n",
    "import torch\n",
    "#from transformers import RobertaForSequenceClassification, RobertaTokenizer, Trainer, TrainingArguments, RobertaConfig\n",
    "from transformers import AutoConfig, AutoModelForSequenceClassification, AutoTokenizer, Trainer, TrainingArguments\n",
    "import torch.nn as nn\n",
    "from torch.utils.data import DataLoader\n",
    "import numpy as np\n",
    "from sklearn.metrics import classification_report\n",
    "import pandas as pd\n",
    "from sklearn.metrics import f1_score\n",
    "\n",
    "device = torch.device(\"cuda\"  if torch.cuda.is_available() else \"cpu\")\n",
    "\n",
    "import os\n",
    "os.environ[\"WANDB_DISABLED\"] = \"true\"\n",
    "os.environ[\"CUDA_VISIBLE_DEVICES\"]= \"0\"\n",
    "\n",
    "model_name = \"microsoft/deberta-v2-xlarge\"\n",
    "assert model_name in ['roberta-base', 'bert-base-uncased', 'google/electra-small-discriminator', \"microsoft/deberta-v2-xlarge\"]\n",
    "\n",
    "model_path = f'./models/pcl_{model_name}_finetuned/model/'\n",
    "tokenizer_path = f'./models/pcl_{model_name}_finetuned/tokenizer/'\n",
    "MAX_SEQ_LEN = 256\n",
    "\n",
    "WORKING_ENV = 'SERVER' # Can be JONAS, SERVER\n",
    "assert WORKING_ENV in ['JONAS', 'SERVER']\n",
    "\n",
    "if WORKING_ENV == 'SERVER':\n",
    "    temp_model_path = f'/hy-tmp/pcl/{model_name}/'\n",
    "if WORKING_ENV == 'JONAS': \n",
    "    temp_model_path = f'./experiment/pcl/{model_name}/'"
   ]
  },
  {
   "cell_type": "code",
   "execution_count": 3,
   "metadata": {},
   "outputs": [],
   "source": [
    "class PCLDataset(torch.utils.data.Dataset):\n",
    "\n",
    "    def __init__(self, tokenizer, input_set):\n",
    "\n",
    "        self.tokenizer = tokenizer\n",
    "        self.texts = list(input_set['text'])\n",
    "        self.labels = list(input_set['label'])\n",
    "        \n",
    "    def collate_fn(self, batch):\n",
    "\n",
    "        texts = []\n",
    "        labels = []\n",
    "\n",
    "        for b in batch:\n",
    "            texts.append(b['text'])\n",
    "            labels.append(b['label'])\n",
    "\n",
    "        encodings = self.tokenizer(texts, return_tensors='pt', padding=True, truncation=True, max_length=MAX_SEQ_LEN)\n",
    "        encodings['labels'] =  torch.tensor(labels)\n",
    "        return encodings\n",
    "    \n",
    "    def __len__(self):\n",
    "        return len(self.texts)\n",
    "\n",
    "    def __getitem__(self, idx):\n",
    "       \n",
    "        item = {'text': self.texts[idx],\n",
    "                'label': self.labels[idx]}\n",
    "        return item"
   ]
  },
  {
   "cell_type": "code",
   "execution_count": 4,
   "metadata": {},
   "outputs": [
    {
     "name": "stderr",
     "output_type": "stream",
     "text": [
      "Special tokens have been added in the vocabulary, make sure the associated word embeddings are fine-tuned or trained.\n",
      "Some weights of the model checkpoint at microsoft/deberta-v2-xlarge were not used when initializing DebertaV2ForSequenceClassification: ['lm_predictions.lm_head.dense.bias', 'lm_predictions.lm_head.LayerNorm.bias', 'lm_predictions.lm_head.dense.weight', 'lm_predictions.lm_head.LayerNorm.weight', 'lm_predictions.lm_head.bias']\n",
      "- This IS expected if you are initializing DebertaV2ForSequenceClassification from the checkpoint of a model trained on another task or with another architecture (e.g. initializing a BertForSequenceClassification model from a BertForPreTraining model).\n",
      "- This IS NOT expected if you are initializing DebertaV2ForSequenceClassification from the checkpoint of a model that you expect to be exactly identical (initializing a BertForSequenceClassification model from a BertForSequenceClassification model).\n",
      "Some weights of DebertaV2ForSequenceClassification were not initialized from the model checkpoint at microsoft/deberta-v2-xlarge and are newly initialized: ['pooler.dense.weight', 'classifier.weight', 'classifier.bias', 'pooler.dense.bias']\n",
      "You should probably TRAIN this model on a down-stream task to be able to use it for predictions and inference.\n"
     ]
    }
   ],
   "source": [
    "config = AutoConfig.from_pretrained(model_name)\n",
    "tokenizer = AutoTokenizer.from_pretrained(model_name)\n",
    "model = AutoModelForSequenceClassification.from_pretrained(model_name , config = config).to(device)\n"
   ]
  },
  {
   "cell_type": "code",
   "execution_count": 5,
   "metadata": {},
   "outputs": [
    {
     "name": "stdout",
     "output_type": "stream",
     "text": [
      "Map of label to numerical label:\n",
      "{'Unbalanced_power_relations': 0, 'Shallow_solution': 1, 'Presupposition': 2, 'Authority_voice': 3, 'Metaphors': 4, 'Compassion': 5, 'The_poorer_the_merrier': 6}\n",
      "      par_id      art_id     keyword country  \\\n",
      "0          1  @@24942188    hopeless      ph   \n",
      "1          2  @@21968160     migrant      gh   \n",
      "2          3  @@16584954   immigrant      ie   \n",
      "3          4   @@7811231    disabled      nz   \n",
      "4          5   @@1494111     refugee      ca   \n",
      "...      ...         ...         ...     ...   \n",
      "10464  10465  @@14297363       women      lk   \n",
      "10465  10466  @@70091353  vulnerable      ph   \n",
      "10466  10467  @@20282330     in-need      ng   \n",
      "10467  10468  @@16753236    hopeless      in   \n",
      "10468  10469  @@16779383    homeless      ie   \n",
      "\n",
      "                                                    text  label orig_label  \\\n",
      "0      We are living in times of absolute insanity , ...      0          0   \n",
      "1      In Libya today , there are countless number of...      0          0   \n",
      "2       White House press secretary Sean Spicer said ...      0          0   \n",
      "3      Council customers only signs would be displaye...      0          0   \n",
      "4       Just like we received migrants fleeing El Sal...      0          0   \n",
      "...                                                  ...    ...        ...   \n",
      "10464   Sri Lankan norms and culture inhibit women fr...      0          1   \n",
      "10465  He added that the AFP will continue to bank on...      0          0   \n",
      "10466   She has one huge platform , and information c...      1          3   \n",
      "10467   Anja Ringgren Loven I ca n't find a word to d...      1          4   \n",
      "10468   Guinness World Record of 540lbs of 7 layer mu...      1          3   \n",
      "\n",
      "       lenght  \n",
      "0         123  \n",
      "1          41  \n",
      "2          25  \n",
      "3          30  \n",
      "4          51  \n",
      "...       ...  \n",
      "10464      62  \n",
      "10465      42  \n",
      "10466      54  \n",
      "10467     103  \n",
      "10468      29  \n",
      "\n",
      "[10469 rows x 8 columns]\n",
      "Training set length:  9422\n",
      "Validation set length:  1047\n"
     ]
    }
   ],
   "source": [
    "dpm_pp = DPMProprocessed('.', 'task4_test.tsv')\n",
    "\n",
    "\n",
    "df_type = 'UNBALANCED' # Can be UNBALANCED, BACKTRANS, OVERSAMPLING\n",
    "assert df_type in ['UNBALANCED', 'BACKTRANS', 'OVERSAMPLING']\n",
    "\n",
    "if df_type == 'UNBALANCED':\n",
    "    train_df_path = 'traindf.pickle'\n",
    "    val_df_path = 'valdf.pickle'\n",
    "if df_type == 'BACKTRANS': \n",
    "    train_df_path = 'traindf_backtrans.pickle'\n",
    "    val_df_path = 'valdf_backtrans.pickle'\n",
    "\n",
    "\n",
    "if not os.path.isfile(train_df_path) or not os.path.isfile(val_df_path):\n",
    "  train_df, val_df = dpm_pp.get_unbalanced_split(0.1)\n",
    "  train_df.to_pickle('traindf.pickle')\n",
    "  val_df.to_pickle('valdf.pickle')\n",
    "else:\n",
    "  train_df = pd.read_pickle(train_df_path)\n",
    "  val_df = pd.read_pickle(val_df_path)\n",
    "\n",
    "print(\"Training set length: \",len(train_df))\n",
    "print(\"Validation set length: \",len(val_df))\n",
    "\n",
    "train_dataset = PCLDataset(tokenizer, train_df)\n",
    "eval_dataset = PCLDataset(tokenizer, val_df)\n"
   ]
  },
  {
   "cell_type": "code",
   "execution_count": 6,
   "metadata": {},
   "outputs": [],
   "source": [
    "class CustomTrainer(Trainer):\n",
    "    def compute_loss(self, model, inputs, return_outputs=False):\n",
    "        labels = inputs.get(\"labels\")\n",
    "        # forward pass\n",
    "        outputs = model(**inputs)\n",
    "        logits = outputs.logits\n",
    "        # weight_scale = len(train_df[train_df['label']==0])/len(train_df[train_df['label']==1])\n",
    "        weight_scale = 1\n",
    "        loss_fct = nn.CrossEntropyLoss(weight=torch.tensor([1.0, weight_scale]).to(device))\n",
    "        loss = loss_fct(logits.view(-1, self.model.config.num_labels), labels.view(-1))\n",
    "        return ((loss, outputs) if return_outputs else loss)"
   ]
  },
  {
   "cell_type": "code",
   "execution_count": 7,
   "metadata": {},
   "outputs": [
    {
     "name": "stderr",
     "output_type": "stream",
     "text": [
      "Using the `WAND_DISABLED` environment variable is deprecated and will be removed in v5. Use the --report_to flag to control the integrations used for logging result (for instance --report_to none).\n",
      "/usr/local/lib/python3.8/dist-packages/transformers/optimization.py:306: FutureWarning: This implementation of AdamW is deprecated and will be removed in a future version. Use thePyTorch implementation torch.optim.AdamW instead, or set `no_deprecation_warning=True` to disable this warning\n",
      "  warnings.warn(\n",
      "***** Running training *****\n",
      "  Num examples = 9422\n",
      "  Num Epochs = 4\n",
      "  Instantaneous batch size per device = 4\n",
      "  Total train batch size (w. parallel, distributed & accumulation) = 4\n",
      "  Gradient Accumulation steps = 1\n",
      "  Total optimization steps = 9424\n"
     ]
    },
    {
     "data": {
      "text/html": [
       "\n",
       "    <div>\n",
       "      \n",
       "      <progress value='9424' max='9424' style='width:300px; height:20px; vertical-align: middle;'></progress>\n",
       "      [9424/9424 1:07:23, Epoch 4/4]\n",
       "    </div>\n",
       "    <table border=\"1\" class=\"dataframe\">\n",
       "  <thead>\n",
       " <tr style=\"text-align: left;\">\n",
       "      <th>Step</th>\n",
       "      <th>Training Loss</th>\n",
       "      <th>Validation Loss</th>\n",
       "      <th>F1 Macro</th>\n",
       "      <th>Pcl F1</th>\n",
       "    </tr>\n",
       "  </thead>\n",
       "  <tbody>\n",
       "    <tr>\n",
       "      <td>500</td>\n",
       "      <td>0.453900</td>\n",
       "      <td>0.488882</td>\n",
       "      <td>0.475188</td>\n",
       "      <td>0.000000</td>\n",
       "    </tr>\n",
       "    <tr>\n",
       "      <td>1000</td>\n",
       "      <td>0.423500</td>\n",
       "      <td>0.390659</td>\n",
       "      <td>0.475188</td>\n",
       "      <td>0.000000</td>\n",
       "    </tr>\n",
       "    <tr>\n",
       "      <td>1500</td>\n",
       "      <td>0.341300</td>\n",
       "      <td>0.345728</td>\n",
       "      <td>0.609677</td>\n",
       "      <td>0.264463</td>\n",
       "    </tr>\n",
       "    <tr>\n",
       "      <td>2000</td>\n",
       "      <td>0.355800</td>\n",
       "      <td>0.322935</td>\n",
       "      <td>0.681084</td>\n",
       "      <td>0.402985</td>\n",
       "    </tr>\n",
       "    <tr>\n",
       "      <td>2500</td>\n",
       "      <td>0.358900</td>\n",
       "      <td>0.352524</td>\n",
       "      <td>0.722139</td>\n",
       "      <td>0.482759</td>\n",
       "    </tr>\n",
       "    <tr>\n",
       "      <td>3000</td>\n",
       "      <td>0.306300</td>\n",
       "      <td>0.342364</td>\n",
       "      <td>0.748465</td>\n",
       "      <td>0.538012</td>\n",
       "    </tr>\n",
       "    <tr>\n",
       "      <td>3500</td>\n",
       "      <td>0.317800</td>\n",
       "      <td>0.321558</td>\n",
       "      <td>0.739493</td>\n",
       "      <td>0.516556</td>\n",
       "    </tr>\n",
       "    <tr>\n",
       "      <td>4000</td>\n",
       "      <td>0.327600</td>\n",
       "      <td>0.340478</td>\n",
       "      <td>0.714841</td>\n",
       "      <td>0.468085</td>\n",
       "    </tr>\n",
       "    <tr>\n",
       "      <td>4500</td>\n",
       "      <td>0.450000</td>\n",
       "      <td>0.314339</td>\n",
       "      <td>0.752659</td>\n",
       "      <td>0.541935</td>\n",
       "    </tr>\n",
       "    <tr>\n",
       "      <td>5000</td>\n",
       "      <td>0.267900</td>\n",
       "      <td>0.346711</td>\n",
       "      <td>0.789387</td>\n",
       "      <td>0.615385</td>\n",
       "    </tr>\n",
       "    <tr>\n",
       "      <td>5500</td>\n",
       "      <td>0.237000</td>\n",
       "      <td>0.345060</td>\n",
       "      <td>0.773494</td>\n",
       "      <td>0.583333</td>\n",
       "    </tr>\n",
       "    <tr>\n",
       "      <td>6000</td>\n",
       "      <td>0.258600</td>\n",
       "      <td>0.347241</td>\n",
       "      <td>0.782328</td>\n",
       "      <td>0.600000</td>\n",
       "    </tr>\n",
       "    <tr>\n",
       "      <td>6500</td>\n",
       "      <td>0.202600</td>\n",
       "      <td>0.373592</td>\n",
       "      <td>0.793585</td>\n",
       "      <td>0.628571</td>\n",
       "    </tr>\n",
       "    <tr>\n",
       "      <td>7000</td>\n",
       "      <td>0.250800</td>\n",
       "      <td>0.339455</td>\n",
       "      <td>0.784373</td>\n",
       "      <td>0.603550</td>\n",
       "    </tr>\n",
       "    <tr>\n",
       "      <td>7500</td>\n",
       "      <td>0.211100</td>\n",
       "      <td>0.349584</td>\n",
       "      <td>0.803585</td>\n",
       "      <td>0.640000</td>\n",
       "    </tr>\n",
       "    <tr>\n",
       "      <td>8000</td>\n",
       "      <td>0.123700</td>\n",
       "      <td>0.383679</td>\n",
       "      <td>0.788731</td>\n",
       "      <td>0.611765</td>\n",
       "    </tr>\n",
       "    <tr>\n",
       "      <td>8500</td>\n",
       "      <td>0.243800</td>\n",
       "      <td>0.359292</td>\n",
       "      <td>0.801521</td>\n",
       "      <td>0.635838</td>\n",
       "    </tr>\n",
       "    <tr>\n",
       "      <td>9000</td>\n",
       "      <td>0.242500</td>\n",
       "      <td>0.363225</td>\n",
       "      <td>0.803585</td>\n",
       "      <td>0.640000</td>\n",
       "    </tr>\n",
       "  </tbody>\n",
       "</table><p>"
      ],
      "text/plain": [
       "<IPython.core.display.HTML object>"
      ]
     },
     "metadata": {},
     "output_type": "display_data"
    },
    {
     "name": "stderr",
     "output_type": "stream",
     "text": [
      "***** Running Evaluation *****\n",
      "  Num examples = 1047\n",
      "  Batch size = 4\n",
      "/usr/local/lib/python3.8/dist-packages/sklearn/metrics/_classification.py:1308: UndefinedMetricWarning: Precision and F-score are ill-defined and being set to 0.0 in labels with no predicted samples. Use `zero_division` parameter to control this behavior.\n",
      "  _warn_prf(average, modifier, msg_start, len(result))\n",
      "/usr/local/lib/python3.8/dist-packages/sklearn/metrics/_classification.py:1308: UndefinedMetricWarning: Precision and F-score are ill-defined and being set to 0.0 in labels with no predicted samples. Use `zero_division` parameter to control this behavior.\n",
      "  _warn_prf(average, modifier, msg_start, len(result))\n",
      "/usr/local/lib/python3.8/dist-packages/sklearn/metrics/_classification.py:1308: UndefinedMetricWarning: Precision and F-score are ill-defined and being set to 0.0 in labels with no predicted samples. Use `zero_division` parameter to control this behavior.\n",
      "  _warn_prf(average, modifier, msg_start, len(result))\n",
      "Saving model checkpoint to /hy-tmp/pcl/microsoft/deberta-v2-xlarge/checkpoint-500\n",
      "Configuration saved in /hy-tmp/pcl/microsoft/deberta-v2-xlarge/checkpoint-500/config.json\n",
      "Model weights saved in /hy-tmp/pcl/microsoft/deberta-v2-xlarge/checkpoint-500/pytorch_model.bin\n",
      "***** Running Evaluation *****\n",
      "  Num examples = 1047\n",
      "  Batch size = 4\n",
      "/usr/local/lib/python3.8/dist-packages/sklearn/metrics/_classification.py:1308: UndefinedMetricWarning: Precision and F-score are ill-defined and being set to 0.0 in labels with no predicted samples. Use `zero_division` parameter to control this behavior.\n",
      "  _warn_prf(average, modifier, msg_start, len(result))\n",
      "/usr/local/lib/python3.8/dist-packages/sklearn/metrics/_classification.py:1308: UndefinedMetricWarning: Precision and F-score are ill-defined and being set to 0.0 in labels with no predicted samples. Use `zero_division` parameter to control this behavior.\n",
      "  _warn_prf(average, modifier, msg_start, len(result))\n",
      "/usr/local/lib/python3.8/dist-packages/sklearn/metrics/_classification.py:1308: UndefinedMetricWarning: Precision and F-score are ill-defined and being set to 0.0 in labels with no predicted samples. Use `zero_division` parameter to control this behavior.\n",
      "  _warn_prf(average, modifier, msg_start, len(result))\n",
      "Saving model checkpoint to /hy-tmp/pcl/microsoft/deberta-v2-xlarge/checkpoint-1000\n",
      "Configuration saved in /hy-tmp/pcl/microsoft/deberta-v2-xlarge/checkpoint-1000/config.json\n",
      "Model weights saved in /hy-tmp/pcl/microsoft/deberta-v2-xlarge/checkpoint-1000/pytorch_model.bin\n",
      "***** Running Evaluation *****\n",
      "  Num examples = 1047\n",
      "  Batch size = 4\n",
      "Saving model checkpoint to /hy-tmp/pcl/microsoft/deberta-v2-xlarge/checkpoint-1500\n",
      "Configuration saved in /hy-tmp/pcl/microsoft/deberta-v2-xlarge/checkpoint-1500/config.json\n",
      "Model weights saved in /hy-tmp/pcl/microsoft/deberta-v2-xlarge/checkpoint-1500/pytorch_model.bin\n",
      "***** Running Evaluation *****\n",
      "  Num examples = 1047\n",
      "  Batch size = 4\n",
      "Saving model checkpoint to /hy-tmp/pcl/microsoft/deberta-v2-xlarge/checkpoint-2000\n",
      "Configuration saved in /hy-tmp/pcl/microsoft/deberta-v2-xlarge/checkpoint-2000/config.json\n",
      "Model weights saved in /hy-tmp/pcl/microsoft/deberta-v2-xlarge/checkpoint-2000/pytorch_model.bin\n",
      "***** Running Evaluation *****\n",
      "  Num examples = 1047\n",
      "  Batch size = 4\n",
      "Saving model checkpoint to /hy-tmp/pcl/microsoft/deberta-v2-xlarge/checkpoint-2500\n",
      "Configuration saved in /hy-tmp/pcl/microsoft/deberta-v2-xlarge/checkpoint-2500/config.json\n",
      "Model weights saved in /hy-tmp/pcl/microsoft/deberta-v2-xlarge/checkpoint-2500/pytorch_model.bin\n",
      "***** Running Evaluation *****\n",
      "  Num examples = 1047\n",
      "  Batch size = 4\n",
      "Saving model checkpoint to /hy-tmp/pcl/microsoft/deberta-v2-xlarge/checkpoint-3000\n",
      "Configuration saved in /hy-tmp/pcl/microsoft/deberta-v2-xlarge/checkpoint-3000/config.json\n",
      "Model weights saved in /hy-tmp/pcl/microsoft/deberta-v2-xlarge/checkpoint-3000/pytorch_model.bin\n",
      "***** Running Evaluation *****\n",
      "  Num examples = 1047\n",
      "  Batch size = 4\n",
      "Saving model checkpoint to /hy-tmp/pcl/microsoft/deberta-v2-xlarge/checkpoint-3500\n",
      "Configuration saved in /hy-tmp/pcl/microsoft/deberta-v2-xlarge/checkpoint-3500/config.json\n",
      "Model weights saved in /hy-tmp/pcl/microsoft/deberta-v2-xlarge/checkpoint-3500/pytorch_model.bin\n",
      "***** Running Evaluation *****\n",
      "  Num examples = 1047\n",
      "  Batch size = 4\n",
      "Saving model checkpoint to /hy-tmp/pcl/microsoft/deberta-v2-xlarge/checkpoint-4000\n",
      "Configuration saved in /hy-tmp/pcl/microsoft/deberta-v2-xlarge/checkpoint-4000/config.json\n",
      "Model weights saved in /hy-tmp/pcl/microsoft/deberta-v2-xlarge/checkpoint-4000/pytorch_model.bin\n",
      "***** Running Evaluation *****\n",
      "  Num examples = 1047\n",
      "  Batch size = 4\n",
      "Saving model checkpoint to /hy-tmp/pcl/microsoft/deberta-v2-xlarge/checkpoint-4500\n",
      "Configuration saved in /hy-tmp/pcl/microsoft/deberta-v2-xlarge/checkpoint-4500/config.json\n",
      "Model weights saved in /hy-tmp/pcl/microsoft/deberta-v2-xlarge/checkpoint-4500/pytorch_model.bin\n",
      "***** Running Evaluation *****\n",
      "  Num examples = 1047\n",
      "  Batch size = 4\n",
      "Saving model checkpoint to /hy-tmp/pcl/microsoft/deberta-v2-xlarge/checkpoint-5000\n",
      "Configuration saved in /hy-tmp/pcl/microsoft/deberta-v2-xlarge/checkpoint-5000/config.json\n",
      "Model weights saved in /hy-tmp/pcl/microsoft/deberta-v2-xlarge/checkpoint-5000/pytorch_model.bin\n",
      "***** Running Evaluation *****\n",
      "  Num examples = 1047\n",
      "  Batch size = 4\n",
      "Saving model checkpoint to /hy-tmp/pcl/microsoft/deberta-v2-xlarge/checkpoint-5500\n",
      "Configuration saved in /hy-tmp/pcl/microsoft/deberta-v2-xlarge/checkpoint-5500/config.json\n",
      "Model weights saved in /hy-tmp/pcl/microsoft/deberta-v2-xlarge/checkpoint-5500/pytorch_model.bin\n",
      "***** Running Evaluation *****\n",
      "  Num examples = 1047\n",
      "  Batch size = 4\n",
      "Saving model checkpoint to /hy-tmp/pcl/microsoft/deberta-v2-xlarge/checkpoint-6000\n",
      "Configuration saved in /hy-tmp/pcl/microsoft/deberta-v2-xlarge/checkpoint-6000/config.json\n",
      "Model weights saved in /hy-tmp/pcl/microsoft/deberta-v2-xlarge/checkpoint-6000/pytorch_model.bin\n",
      "***** Running Evaluation *****\n",
      "  Num examples = 1047\n",
      "  Batch size = 4\n",
      "Saving model checkpoint to /hy-tmp/pcl/microsoft/deberta-v2-xlarge/checkpoint-6500\n",
      "Configuration saved in /hy-tmp/pcl/microsoft/deberta-v2-xlarge/checkpoint-6500/config.json\n",
      "Model weights saved in /hy-tmp/pcl/microsoft/deberta-v2-xlarge/checkpoint-6500/pytorch_model.bin\n",
      "***** Running Evaluation *****\n",
      "  Num examples = 1047\n",
      "  Batch size = 4\n",
      "Saving model checkpoint to /hy-tmp/pcl/microsoft/deberta-v2-xlarge/checkpoint-7000\n",
      "Configuration saved in /hy-tmp/pcl/microsoft/deberta-v2-xlarge/checkpoint-7000/config.json\n",
      "Model weights saved in /hy-tmp/pcl/microsoft/deberta-v2-xlarge/checkpoint-7000/pytorch_model.bin\n",
      "***** Running Evaluation *****\n",
      "  Num examples = 1047\n",
      "  Batch size = 4\n",
      "Saving model checkpoint to /hy-tmp/pcl/microsoft/deberta-v2-xlarge/checkpoint-7500\n",
      "Configuration saved in /hy-tmp/pcl/microsoft/deberta-v2-xlarge/checkpoint-7500/config.json\n",
      "Model weights saved in /hy-tmp/pcl/microsoft/deberta-v2-xlarge/checkpoint-7500/pytorch_model.bin\n",
      "***** Running Evaluation *****\n",
      "  Num examples = 1047\n",
      "  Batch size = 4\n",
      "Saving model checkpoint to /hy-tmp/pcl/microsoft/deberta-v2-xlarge/checkpoint-8000\n",
      "Configuration saved in /hy-tmp/pcl/microsoft/deberta-v2-xlarge/checkpoint-8000/config.json\n",
      "Model weights saved in /hy-tmp/pcl/microsoft/deberta-v2-xlarge/checkpoint-8000/pytorch_model.bin\n",
      "***** Running Evaluation *****\n",
      "  Num examples = 1047\n",
      "  Batch size = 4\n",
      "Saving model checkpoint to /hy-tmp/pcl/microsoft/deberta-v2-xlarge/checkpoint-8500\n",
      "Configuration saved in /hy-tmp/pcl/microsoft/deberta-v2-xlarge/checkpoint-8500/config.json\n",
      "Model weights saved in /hy-tmp/pcl/microsoft/deberta-v2-xlarge/checkpoint-8500/pytorch_model.bin\n",
      "***** Running Evaluation *****\n",
      "  Num examples = 1047\n",
      "  Batch size = 4\n",
      "Saving model checkpoint to /hy-tmp/pcl/microsoft/deberta-v2-xlarge/checkpoint-9000\n",
      "Configuration saved in /hy-tmp/pcl/microsoft/deberta-v2-xlarge/checkpoint-9000/config.json\n",
      "Model weights saved in /hy-tmp/pcl/microsoft/deberta-v2-xlarge/checkpoint-9000/pytorch_model.bin\n",
      "\n",
      "\n",
      "Training completed. Do not forget to share your model on huggingface.co/models =)\n",
      "\n",
      "\n",
      "Loading best model from /hy-tmp/pcl/microsoft/deberta-v2-xlarge/checkpoint-7500 (score: 0.64).\n"
     ]
    },
    {
     "data": {
      "text/plain": [
       "TrainOutput(global_step=9424, training_loss=0.2959647667175238, metrics={'train_runtime': 4043.662, 'train_samples_per_second': 9.32, 'train_steps_per_second': 2.331, 'total_flos': 1.2884359771641792e+16, 'train_loss': 0.2959647667175238, 'epoch': 4.0})"
      ]
     },
     "execution_count": 7,
     "metadata": {},
     "output_type": "execute_result"
    }
   ],
   "source": [
    "validation_loader = DataLoader(eval_dataset)\n",
    "def compute_metric_eval(arg):\n",
    "    logits, labels_gold = arg[0], arg[1]\n",
    "    labels_pred = np.argmax(logits, axis = 1)\n",
    "    return {'f1_macro' :f1_score(labels_gold, labels_pred, average='macro'), \n",
    "            'pcl_f1': classification_report(labels_gold, labels_pred, target_names=[\"Not PCL\",\"PCL\"], output_dict= True)['PCL']['f1-score']} #more metrics can be added\n",
    "\n",
    "training_args = TrainingArguments(\n",
    "        output_dir=temp_model_path,\n",
    "        learning_rate = 1e-6,\n",
    "        logging_steps= 100,\n",
    "        eval_steps = 500,\n",
    "        per_device_train_batch_size=4,\n",
    "        per_device_eval_batch_size = 4,\n",
    "        num_train_epochs = 4,\n",
    "        evaluation_strategy= \"steps\",\n",
    "        load_best_model_at_end=True,\n",
    "        metric_for_best_model='pcl_f1'\n",
    "        )\n",
    "\n",
    "trainer = CustomTrainer(\n",
    "        model=model,                         \n",
    "        args=training_args,                 \n",
    "        train_dataset=train_dataset,                   \n",
    "        data_collator=eval_dataset.collate_fn,\n",
    "        compute_metrics = compute_metric_eval,\n",
    "        eval_dataset = eval_dataset\n",
    "    )\n",
    "trainer.train()"
   ]
  },
  {
   "cell_type": "code",
   "execution_count": 8,
   "metadata": {},
   "outputs": [
    {
     "name": "stderr",
     "output_type": "stream",
     "text": [
      "Saving model checkpoint to ./models/pcl_microsoft/deberta-v2-xlarge_finetuned/model/\n",
      "Configuration saved in ./models/pcl_microsoft/deberta-v2-xlarge_finetuned/model/config.json\n",
      "Model weights saved in ./models/pcl_microsoft/deberta-v2-xlarge_finetuned/model/pytorch_model.bin\n",
      "tokenizer config file saved in ./models/pcl_microsoft/deberta-v2-xlarge_finetuned/tokenizer/tokenizer_config.json\n",
      "Special tokens file saved in ./models/pcl_microsoft/deberta-v2-xlarge_finetuned/tokenizer/special_tokens_map.json\n",
      "added tokens file saved in ./models/pcl_microsoft/deberta-v2-xlarge_finetuned/tokenizer/added_tokens.json\n"
     ]
    }
   ],
   "source": [
    "trainer.save_model(model_path)\n",
    "tokenizer.save_pretrained(tokenizer_path)\n",
    "\n",
    "train_df.to_pickle('train_df.pickle')\n",
    "val_df.to_pickle('val_df.pickle')"
   ]
  },
  {
   "cell_type": "code",
   "execution_count": 9,
   "metadata": {},
   "outputs": [
    {
     "name": "stderr",
     "output_type": "stream",
     "text": [
      "loading configuration file https://huggingface.co/microsoft/deberta-v2-xlarge/resolve/main/config.json from cache at /root/.cache/huggingface/transformers/9b1521087cc24b2b8011f3a1ed13d4adfedc3c0668198e49f5cd0fbac08c1390.68c59ec99ca9b4a368c8bc9f42e06b33f4766cb50174c88e8000ed1880fa4d3a\n",
      "Model config DebertaV2Config {\n",
      "  \"_name_or_path\": \"microsoft/deberta-v2-xlarge\",\n",
      "  \"attention_head_size\": 64,\n",
      "  \"attention_probs_dropout_prob\": 0.1,\n",
      "  \"conv_act\": \"gelu\",\n",
      "  \"conv_kernel_size\": 3,\n",
      "  \"hidden_act\": \"gelu\",\n",
      "  \"hidden_dropout_prob\": 0.1,\n",
      "  \"hidden_size\": 1536,\n",
      "  \"initializer_range\": 0.02,\n",
      "  \"intermediate_size\": 6144,\n",
      "  \"layer_norm_eps\": 1e-07,\n",
      "  \"max_position_embeddings\": 512,\n",
      "  \"max_relative_positions\": -1,\n",
      "  \"model_type\": \"deberta-v2\",\n",
      "  \"norm_rel_ebd\": \"layer_norm\",\n",
      "  \"num_attention_heads\": 24,\n",
      "  \"num_hidden_layers\": 24,\n",
      "  \"pad_token_id\": 0,\n",
      "  \"pooler_dropout\": 0,\n",
      "  \"pooler_hidden_act\": \"gelu\",\n",
      "  \"pooler_hidden_size\": 1536,\n",
      "  \"pos_att_type\": [\n",
      "    \"p2c\",\n",
      "    \"c2p\"\n",
      "  ],\n",
      "  \"position_biased_input\": false,\n",
      "  \"position_buckets\": 256,\n",
      "  \"relative_attention\": true,\n",
      "  \"share_att_key\": true,\n",
      "  \"transformers_version\": \"4.16.2\",\n",
      "  \"type_vocab_size\": 0,\n",
      "  \"vocab_size\": 128100\n",
      "}\n",
      "\n",
      "Didn't find file ./models/pcl_microsoft/deberta-v2-xlarge_finetuned/tokenizer/tokenizer.json. We won't load it.\n",
      "loading file ./models/pcl_microsoft/deberta-v2-xlarge_finetuned/tokenizer/spm.model\n",
      "loading file ./models/pcl_microsoft/deberta-v2-xlarge_finetuned/tokenizer/added_tokens.json\n",
      "loading file ./models/pcl_microsoft/deberta-v2-xlarge_finetuned/tokenizer/special_tokens_map.json\n",
      "loading file ./models/pcl_microsoft/deberta-v2-xlarge_finetuned/tokenizer/tokenizer_config.json\n",
      "loading file None\n",
      "Adding [MASK] to the vocabulary\n",
      "loading weights file ./models/pcl_microsoft/deberta-v2-xlarge_finetuned/model/pytorch_model.bin\n",
      "All model checkpoint weights were used when initializing DebertaV2ForSequenceClassification.\n",
      "\n",
      "All the weights of DebertaV2ForSequenceClassification were initialized from the model checkpoint at ./models/pcl_microsoft/deberta-v2-xlarge_finetuned/model/.\n",
      "If your task is similar to the task the model of the checkpoint was trained on, you can already use DebertaV2ForSequenceClassification for predictions without further training.\n"
     ]
    }
   ],
   "source": [
    "config = AutoConfig.from_pretrained(model_name)\n",
    "tokenizer = AutoTokenizer.from_pretrained(tokenizer_path)\n",
    "model = AutoModelForSequenceClassification.from_pretrained(model_path , config = config).to(device)\n"
   ]
  },
  {
   "cell_type": "code",
   "execution_count": 10,
   "metadata": {},
   "outputs": [],
   "source": [
    "\n",
    "train_df = pd.read_pickle('train_df.pickle')\n",
    "val_df = pd.read_pickle('val_df.pickle')\n",
    "\n",
    "train_dataset = PCLDataset(tokenizer, train_df)\n",
    "eval_dataset = PCLDataset(tokenizer, val_df)"
   ]
  },
  {
   "cell_type": "code",
   "execution_count": 11,
   "metadata": {},
   "outputs": [],
   "source": [
    "def predict_pcl(input, tokenizer, model, threshold=0.5):\n",
    "    model.eval()\n",
    "    encodings = tokenizer(input, return_tensors='pt', padding=True, truncation=True, max_length=256)\n",
    "    encodings = encodings.to(device)\n",
    "    output = model(**encodings)\n",
    "    logits = output.logits\n",
    "    prob = nn.functional.softmax(logits)[: , 1].cpu()\n",
    "    preds = np.array([int(prob>threshold)])\n",
    "    return {'prediction': preds, 'confidence': prob}\n",
    "\n",
    "\n",
    "def evaluate(model, tokenizer, data_loader, threshold=0.5):\n",
    "    preds = []\n",
    "    tot_labels = []\n",
    "    confidences = []\n",
    "    with torch.no_grad():\n",
    "        for data in (data_loader):\n",
    "            labels = {}\n",
    "            labels['label'] = data['label']\n",
    "\n",
    "            tweets = data['text']\n",
    "\n",
    "            pred = predict_pcl(tweets, tokenizer, model, threshold)\n",
    "\n",
    "            preds.append(np.array(pred['prediction']))\n",
    "            tot_labels.append(np.array(labels['label'].cpu()))\n",
    "            confidences.append(np.array(pred['confidence'].cpu()))\n",
    "\n",
    "    # with the saved predictions and labels we can compute accuracy, precision, recall and f1-score\n",
    "\n",
    "    return preds, tot_labels, confidences"
   ]
  },
  {
   "cell_type": "code",
   "execution_count": 12,
   "metadata": {},
   "outputs": [
    {
     "name": "stderr",
     "output_type": "stream",
     "text": [
      "/tmp/ipykernel_760/1932561778.py:7: UserWarning: Implicit dimension choice for softmax has been deprecated. Change the call to include dim=X as an argument.\n",
      "  prob = nn.functional.softmax(logits)[: , 1].cpu()\n"
     ]
    },
    {
     "name": "stdout",
     "output_type": "stream",
     "text": [
      "{'Not PCL': {'precision': 0.9557157569515963, 'recall': 0.9789029535864979, 'f1-score': 0.9671704012506515, 'support': 948}, 'PCL': {'precision': 0.7368421052631579, 'recall': 0.5656565656565656, 'f1-score': 0.64, 'support': 99}, 'accuracy': 0.9398280802292264, 'macro avg': {'precision': 0.8462789311073771, 'recall': 0.7722797596215318, 'f1-score': 0.8035852006253257, 'support': 1047}, 'weighted avg': {'precision': 0.9350199675369302, 'recall': 0.9398280802292264, 'f1-score': 0.9362345180378392, 'support': 1047}}\n",
      "0.9398280802292264\n",
      "0.9671704012506515\n",
      "0.64\n"
     ]
    }
   ],
   "source": [
    "validation_loader = DataLoader(eval_dataset)\n",
    "\n",
    "preds, tot_labels, confidences = evaluate(model, tokenizer, validation_loader)\n",
    "tot_labels = np.array(tot_labels)\n",
    "preds = np.array(preds)\n",
    "confidences = np.array(confidences)\n",
    "report = classification_report(tot_labels, preds, target_names=[\"Not PCL\", \"PCL\"], output_dict=True)\n",
    "print(report)\n",
    "\n",
    "print(report['accuracy'])\n",
    "print(report['Not PCL']['f1-score'])\n",
    "print(report['PCL']['f1-score'])"
   ]
  },
  {
   "cell_type": "code",
   "execution_count": 13,
   "metadata": {},
   "outputs": [
    {
     "data": {
      "text/plain": [
       "array([[1.1940618e-03],\n",
       "       [4.1436334e-04],\n",
       "       [3.1022815e-04],\n",
       "       ...,\n",
       "       [3.2770116e-04],\n",
       "       [8.5414242e-05],\n",
       "       [3.8479487e-04]], dtype=float32)"
      ]
     },
     "execution_count": 13,
     "metadata": {},
     "output_type": "execute_result"
    }
   ],
   "source": [
    "confidences"
   ]
  },
  {
   "cell_type": "code",
   "execution_count": 14,
   "metadata": {},
   "outputs": [
    {
     "name": "stderr",
     "output_type": "stream",
     "text": [
      "/usr/local/lib/python3.8/dist-packages/sklearn/metrics/_classification.py:1308: UndefinedMetricWarning: Precision and F-score are ill-defined and being set to 0.0 in labels with no predicted samples. Use `zero_division` parameter to control this behavior.\n",
      "  _warn_prf(average, modifier, msg_start, len(result))\n",
      "/usr/local/lib/python3.8/dist-packages/sklearn/metrics/_classification.py:1308: UndefinedMetricWarning: Precision and F-score are ill-defined and being set to 0.0 in labels with no predicted samples. Use `zero_division` parameter to control this behavior.\n",
      "  _warn_prf(average, modifier, msg_start, len(result))\n",
      "/usr/local/lib/python3.8/dist-packages/sklearn/metrics/_classification.py:1308: UndefinedMetricWarning: Precision and F-score are ill-defined and being set to 0.0 in labels with no predicted samples. Use `zero_division` parameter to control this behavior.\n",
      "  _warn_prf(average, modifier, msg_start, len(result))\n"
     ]
    }
   ],
   "source": [
    "# define threshold\n",
    "pcl_count_by_threshold = []\n",
    "non_pcl_count_by_threshold = []\n",
    "f1_by_threshold = []\n",
    "for percentage in range(100):\n",
    "    threshold = percentage / 100\n",
    "    pcl_count = (confidences > threshold).sum()\n",
    "    non_pcl_count = (confidences <= threshold).sum()\n",
    "    pred = np.zeros(tot_labels.shape)\n",
    "    pred[confidences > threshold] = 1\n",
    "    pcl_count_by_threshold.append(pcl_count)\n",
    "    non_pcl_count_by_threshold.append(non_pcl_count)\n",
    "    f1_by_threshold.append(classification_report(tot_labels, pred, target_names=[\"Not PCL\", \"PCL\"], output_dict=True)['PCL']['f1-score'])\n",
    "\n",
    "best_threshold = np.argmax(f1_by_threshold) / 100"
   ]
  },
  {
   "cell_type": "code",
   "execution_count": 23,
   "metadata": {},
   "outputs": [
    {
     "data": {
      "text/plain": [
       "0.6408839779005524"
      ]
     },
     "execution_count": 23,
     "metadata": {},
     "output_type": "execute_result"
    }
   ],
   "source": [
    "# best_threshold\n",
    "np.max(f1_by_threshold)"
   ]
  },
  {
   "cell_type": "code",
   "execution_count": 16,
   "metadata": {},
   "outputs": [
    {
     "data": {
      "image/png": "[encoded data removed]",
      "text/plain": [
       "<Figure size 432x288 with 1 Axes>"
      ]
     },
     "metadata": {
      "needs_background": "light"
     },
     "output_type": "display_data"
    },
    {
     "data": {
      "image/png": "[encoded data removed]",
      "text/plain": [
       "<Figure size 432x288 with 1 Axes>"
      ]
     },
     "metadata": {
      "needs_background": "light"
     },
     "output_type": "display_data"
    }
   ],
   "source": [
    "import matplotlib.pyplot as plt\n",
    "\n",
    "x=np.arange(0,100)\n",
    "l1=plt.plot(x,pcl_count_by_threshold,'r',label='pcl_count_by_threshold')\n",
    "l2=plt.plot(x,non_pcl_count_by_threshold,'g',label='non_pcl_count_by_threshold')\n",
    "\n",
    "# plt.plot(x1,y1,'ro-',x2,y2,'g+-',x3,y3,'b^-')\n",
    "plt.title('The Lasers in Three Conditions')\n",
    "plt.xlabel('thkreshold')\n",
    "plt.ylabel('column')\n",
    "plt.legend()\n",
    "plt.show()\n",
    "\n",
    "plt.clf()\n",
    "l3=plt.plot(x, f1_by_threshold,'b',label='f1_by_threshold')\n",
    "plt.legend()\n",
    "plt.show()"
   ]
  },
  {
   "cell_type": "markdown",
   "metadata": {},
   "source": [
    "# Test set"
   ]
  },
  {
   "cell_type": "code",
   "execution_count": 28,
   "metadata": {},
   "outputs": [
    {
     "name": "stderr",
     "output_type": "stream",
     "text": [
      "/tmp/ipykernel_760/1932561778.py:7: UserWarning: Implicit dimension choice for softmax has been deprecated. Change the call to include dim=X as an argument.\n",
      "  prob = nn.functional.softmax(logits)[: , 1].cpu()\n"
     ]
    }
   ],
   "source": [
    "dpm_pp.load_test()\n",
    "test_df = dpm_pp.test_set_df\n",
    "test_df['label'] = 0\n",
    "test_dataset = PCLDataset(tokenizer, test_df)\n",
    "\n",
    "test_loader = DataLoader(test_dataset)\n",
    "\n",
    "preds, tot_labels, confidences = evaluate(model, tokenizer, test_loader, best_threshold)\n",
    "tot_labels = np.array(tot_labels)\n",
    "preds = np.array(preds)\n",
    "# report = classification_report(tot_labels, preds, target_names=[\"Not PCL\",\"PCL\"], output_dict= True)\n",
    "# print(report)\n",
    "\n",
    "# print(report['accuracy'])\n",
    "# print(report['Not PCL']['f1-score'])\n",
    "# print(report['PCL']['f1-score'])"
   ]
  },
  {
   "cell_type": "code",
   "execution_count": 24,
   "metadata": {},
   "outputs": [
    {
     "data": {
      "text/plain": [
       "(3832, 1)"
      ]
     },
     "execution_count": 24,
     "metadata": {},
     "output_type": "execute_result"
    }
   ],
   "source": [
    "# preds.shape\n",
    "preds.shape"
   ]
  },
  {
   "cell_type": "code",
   "execution_count": 25,
   "metadata": {},
   "outputs": [
    {
     "data": {
      "text/plain": [
       "Counter({0: 3579, 1: 253})"
      ]
     },
     "execution_count": 25,
     "metadata": {},
     "output_type": "execute_result"
    }
   ],
   "source": [
    "from collections import Counter\n",
    "preds = preds.reshape(-1)\n",
    "Counter(preds)"
   ]
  },
  {
   "cell_type": "code",
   "execution_count": 26,
   "metadata": {},
   "outputs": [],
   "source": [
    "# helper function to save predictions to an output file\n",
    "def labels2file(p, outf_path):\n",
    "\twith open(outf_path,'w') as outf:\n",
    "\t\tfor pi in p:\n",
    "\t\t\toutf.write(','.join([str(k) for k in pi])+'\\n')"
   ]
  },
  {
   "cell_type": "code",
   "execution_count": 27,
   "metadata": {},
   "outputs": [
    {
     "name": "stdout",
     "output_type": "stream",
     "text": [
      "0\n",
      "0\n",
      "0\n",
      "0\n",
      "0\n",
      "0\n",
      "0\n",
      "0\n",
      "0\n",
      "0\n",
      "updating: task1.txt (deflated 95%)\n"
     ]
    }
   ],
   "source": [
    "labels2file([[k] for k in preds], 'task1.txt')\n",
    "!cat task1.txt | head -n 10\n",
    "!zip submission.zip task1.txt "
   ]
  },
  {
   "cell_type": "code",
   "execution_count": null,
   "metadata": {},
   "outputs": [],
   "source": []
  }
 ],
 "metadata": {
  "interpreter": {
   "hash": "3d597f4c481aa0f25dceb95d2a0067e73c0966dcbd003d741d821a7208527ecf"
  },
  "kernelspec": {
   "display_name": "Python 3.9.10 ('base')",
   "language": "python",
   "name": "python3"
  },
  "language_info": {
   "codemirror_mode": {
    "name": "ipython",
    "version": 3
   },
   "file_extension": ".py",
   "mimetype": "text/x-python",
   "name": "python",
   "nbconvert_exporter": "python",
   "pygments_lexer": "ipython3",
   "version": "3.8.12"
  },
  "orig_nbformat": 4
 },
 "nbformat": 4,
 "nbformat_minor": 2
}
