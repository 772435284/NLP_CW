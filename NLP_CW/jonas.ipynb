{
 "cells": [
  {
   "cell_type": "code",
   "execution_count": null,
   "metadata": {},
   "outputs": [],
   "source": [
    "#dependencies\n",
    "! python -m pip install nltk\n",
    "! python -m pip install wordcloud\n",
    "! python -m pip install Unidecode\n",
    "! python -m pip install beautifulsoup4"
   ]
  },
  {
   "cell_type": "code",
   "execution_count": null,
   "metadata": {},
   "outputs": [],
   "source": [
    "from dpm_preprocessing import DPMProprocessed\n",
    "from collections import Counter\n",
    "import torch\n",
    "#from transformers import RobertaForSequenceClassification, RobertaTokenizer, Trainer, TrainingArguments, RobertaConfig\n",
    "from transformers import AutoConfig, AutoModelForSequenceClassification, AutoTokenizer, Trainer, TrainingArguments\n",
    "import torch.nn as nn\n",
    "from torch.utils.data import DataLoader\n",
    "import numpy as np\n",
    "from sklearn.metrics import classification_report\n",
    "import pandas as pd\n",
    "from sklearn.metrics import f1_score\n",
    "\n",
    "device = torch.device(\"cuda\"  if torch.cuda.is_available() else \"cpu\")\n",
    "\n",
    "import os\n",
    "os.environ[\"WANDB_DISABLED\"] = \"true\"\n",
    "os.environ[\"CUDA_VISIBLE_DEVICES\"]= \"0\"\n",
    "\n",
    "model_name = \"microsoft/deberta-v2-xlarge\"\n",
    "assert model_name in ['roberta-base', 'bert-base-uncased', 'google/electra-small-discriminator', \"microsoft/deberta-v2-xlarge\"]\n",
    "\n",
    "model_path = f'./models/pcl_{model_name}_finetuned/model/'\n",
    "tokenizer_path = f'./models/pcl_{model_name}_finetuned/tokenizer/'\n",
    "MAX_SEQ_LEN = 256\n",
    "\n",
    "WORKING_ENV = 'SERVER' # Can be JONAS, SERVER\n",
    "assert WORKING_ENV in ['JONAS', 'SERVER','BACKUP']\n",
    "\n",
    "if WORKING_ENV == 'SERVER':\n",
    "    temp_model_path = f'/hy-tmp/pcl/{model_name}/'\n",
    "if WORKING_ENV == 'JONAS': \n",
    "    temp_model_path = f'./experiment/pcl/{model_name}/'\n",
    "if WORKING_ENV == 'BACKUP': \n",
    "    temp_model_path = f'/hy-tmp/models/pcl_{model_name}_finetuned/model/'\n",
    "    temp_tokenizer_path = f'/hy-tmp/models/pcl_{model_name}_finetuned/tokenizer/'\n"
   ]
  },
  {
   "cell_type": "code",
   "execution_count": null,
   "metadata": {},
   "outputs": [],
   "source": [
    "class PCLDataset(torch.utils.data.Dataset):\n",
    "\n",
    "    def __init__(self, tokenizer, input_set):\n",
    "\n",
    "        self.tokenizer = tokenizer\n",
    "        self.texts = list(input_set['text'])\n",
    "        self.labels = list(input_set['label'])\n",
    "        \n",
    "    def collate_fn(self, batch):\n",
    "\n",
    "        texts = []\n",
    "        labels = []\n",
    "\n",
    "        for b in batch:\n",
    "            texts.append(b['text'])\n",
    "            labels.append(b['label'])\n",
    "\n",
    "        encodings = self.tokenizer(texts, return_tensors='pt', padding=True, truncation=True, max_length=MAX_SEQ_LEN)\n",
    "        encodings['labels'] =  torch.tensor(labels)\n",
    "        return encodings\n",
    "    \n",
    "    def __len__(self):\n",
    "        return len(self.texts)\n",
    "\n",
    "    def __getitem__(self, idx):\n",
    "       \n",
    "        item = {'text': self.texts[idx],\n",
    "                'label': self.labels[idx]}\n",
    "        return item"
   ]
  },
  {
   "cell_type": "code",
   "execution_count": null,
   "metadata": {},
   "outputs": [],
   "source": [
    "config = AutoConfig.from_pretrained(model_name)\n",
    "tokenizer = AutoTokenizer.from_pretrained(model_name)\n",
    "model = AutoModelForSequenceClassification.from_pretrained(model_name , config = config).to(device)\n"
   ]
  },
  {
   "cell_type": "code",
   "execution_count": null,
   "metadata": {},
   "outputs": [],
   "source": [
    "dpm_pp = DPMProprocessed('.', 'task4_test.tsv')\n",
    "\n",
    "\n",
    "df_type = 'BACKTRANS' # Can be UNBALANCED, BACKTRANS, OVERSAMPLING\n",
    "assert df_type in ['UNBALANCED', 'BACKTRANS', 'OVERSAMPLING']\n",
    "\n",
    "if df_type == 'UNBALANCED':\n",
    "    train_df_path = 'traindf.pickle'\n",
    "    val_df_path = 'valdf.pickle'\n",
    "if df_type == 'BACKTRANS': \n",
    "    train_df_path = 'traindf_backtrans.pickle'\n",
    "    val_df_path = 'valdf_backtrans.pickle'\n",
    "\n",
    "\n",
    "if not os.path.isfile(train_df_path) or not os.path.isfile(val_df_path):\n",
    "  train_df, val_df = dpm_pp.get_unbalanced_split(0.1)\n",
    "  train_df.to_pickle('traindf.pickle')\n",
    "  val_df.to_pickle('valdf.pickle')\n",
    "else:\n",
    "  train_df = pd.read_pickle(train_df_path)\n",
    "  val_df = pd.read_pickle(val_df_path)\n",
    "\n",
    "print(\"Training set length: \",len(train_df))\n",
    "print(\"Validation set length: \",len(val_df))\n",
    "\n",
    "train_dataset = PCLDataset(tokenizer, train_df)\n",
    "eval_dataset = PCLDataset(tokenizer, val_df)\n"
   ]
  },
  {
   "cell_type": "code",
   "execution_count": null,
   "metadata": {},
   "outputs": [],
   "source": [
    "class CustomTrainer(Trainer):\n",
    "    def compute_loss(self, model, inputs, return_outputs=False):\n",
    "        labels = inputs.get(\"labels\")\n",
    "        # forward pass\n",
    "        outputs = model(**inputs)\n",
    "        logits = outputs.logits\n",
    "        # weight_scale = len(train_df[train_df['label']==0])/len(train_df[train_df['label']==1])\n",
    "        weight_scale = 1\n",
    "        loss_fct = nn.CrossEntropyLoss(weight=torch.tensor([1.0, weight_scale]).to(device))\n",
    "        loss = loss_fct(logits.view(-1, self.model.config.num_labels), labels.view(-1))\n",
    "        return ((loss, outputs) if return_outputs else loss)"
   ]
  },
  {
   "cell_type": "code",
   "execution_count": null,
   "metadata": {},
   "outputs": [],
   "source": [
    "validation_loader = DataLoader(eval_dataset)\n",
    "def compute_metric_eval(arg):\n",
    "    logits, labels_gold = arg[0], arg[1]\n",
    "    labels_pred = np.argmax(logits, axis = 1)\n",
    "    return {'f1_macro' :f1_score(labels_gold, labels_pred, average='macro'), \n",
    "            'pcl_f1': classification_report(labels_gold, labels_pred, target_names=[\"Not PCL\",\"PCL\"], output_dict= True)['PCL']['f1-score']} #more metrics can be added\n",
    "\n",
    "training_args = TrainingArguments(\n",
    "        output_dir=temp_model_path,\n",
    "        learning_rate = 1e-6,\n",
    "        logging_steps= 100,\n",
    "        eval_steps = 500,\n",
    "        per_device_train_batch_size=4,\n",
    "        per_device_eval_batch_size =4,\n",
    "        num_train_epochs = 4,\n",
    "        evaluation_strategy= \"steps\",\n",
    "        load_best_model_at_end=True,\n",
    "        metric_for_best_model='pcl_f1'\n",
    "        )\n",
    "\n",
    "trainer = CustomTrainer(\n",
    "        model=model,                         \n",
    "        args=training_args,                 \n",
    "        train_dataset=train_dataset,                   \n",
    "        data_collator=eval_dataset.collate_fn,\n",
    "        compute_metrics = compute_metric_eval,\n",
    "        eval_dataset = eval_dataset\n",
    "    )\n",
    "trainer.train()"
   ]
  },
  {
   "cell_type": "code",
   "execution_count": null,
   "metadata": {},
   "outputs": [],
   "source": [
    "trainer.save_model(model_path)\n",
    "tokenizer.save_pretrained(tokenizer_path)\n",
    "\n",
    "train_df.to_pickle('train_df.pickle')\n",
    "val_df.to_pickle('val_df.pickle')"
   ]
  },
  {
   "cell_type": "code",
   "execution_count": null,
   "metadata": {},
   "outputs": [],
   "source": [
    "config = AutoConfig.from_pretrained(model_name)\n",
    "tokenizer = AutoTokenizer.from_pretrained(tokenizer_path)\n",
    "model = AutoModelForSequenceClassification.from_pretrained(model_path , config = config).to(device)\n"
   ]
  },
  {
   "cell_type": "code",
   "execution_count": null,
   "metadata": {},
   "outputs": [],
   "source": [
    "\n",
    "train_df = pd.read_pickle('train_df.pickle')\n",
    "val_df = pd.read_pickle('val_df.pickle')\n",
    "\n",
    "train_dataset = PCLDataset(tokenizer, train_df)\n",
    "eval_dataset = PCLDataset(tokenizer, val_df)"
   ]
  },
  {
   "cell_type": "code",
   "execution_count": null,
   "metadata": {},
   "outputs": [],
   "source": [
    "def predict_pcl(input, tokenizer, model, threshold=0.5):\n",
    "    model.eval()\n",
    "    encodings = tokenizer(input, return_tensors='pt', padding=True, truncation=True, max_length=256)\n",
    "    encodings = encodings.to(device)\n",
    "    output = model(**encodings)\n",
    "    logits = output.logits\n",
    "    prob = nn.functional.softmax(logits)[: , 1].cpu()\n",
    "    preds = np.array([int(prob>threshold)])\n",
    "    return {'prediction': preds, 'confidence': prob}\n",
    "\n",
    "\n",
    "def evaluate(model, tokenizer, data_loader, threshold=0.5):\n",
    "    preds = []\n",
    "    tot_labels = []\n",
    "    confidences = []\n",
    "    with torch.no_grad():\n",
    "        for data in (data_loader):\n",
    "            labels = {}\n",
    "            labels['label'] = data['label']\n",
    "\n",
    "            tweets = data['text']\n",
    "\n",
    "            pred = predict_pcl(tweets, tokenizer, model, threshold)\n",
    "\n",
    "            preds.append(np.array(pred['prediction']))\n",
    "            tot_labels.append(np.array(labels['label'].cpu()))\n",
    "            confidences.append(np.array(pred['confidence'].cpu()))\n",
    "\n",
    "    # with the saved predictions and labels we can compute accuracy, precision, recall and f1-score\n",
    "\n",
    "    return preds, tot_labels, confidences"
   ]
  },
  {
   "cell_type": "code",
   "execution_count": null,
   "metadata": {},
   "outputs": [],
   "source": [
    "validation_loader = DataLoader(eval_dataset)\n",
    "\n",
    "preds, tot_labels, confidences = evaluate(model, tokenizer, validation_loader)\n",
    "tot_labels = np.array(tot_labels)\n",
    "preds = np.array(preds)\n",
    "confidences = np.array(confidences)\n",
    "report = classification_report(tot_labels, preds, target_names=[\"Not PCL\", \"PCL\"], output_dict=True)\n",
    "print(report)\n",
    "\n",
    "print(report['accuracy'])\n",
    "print(report['Not PCL']['f1-score'])\n",
    "print(report['PCL']['f1-score'])"
   ]
  },
  {
   "cell_type": "code",
   "execution_count": null,
   "metadata": {},
   "outputs": [],
   "source": [
    "confidences"
   ]
  },
  {
   "cell_type": "code",
   "execution_count": null,
   "metadata": {},
   "outputs": [],
   "source": [
    "# define threshold\n",
    "pcl_count_by_threshold = []\n",
    "non_pcl_count_by_threshold = []\n",
    "f1_by_threshold = []\n",
    "precision_by_threshold = []\n",
    "recall_by_threshold = []\n",
    "for percentage in range(100):\n",
    "    threshold = percentage / 100\n",
    "    pcl_count = (confidences > threshold).sum()\n",
    "    non_pcl_count = (confidences <= threshold).sum()\n",
    "    pred = np.zeros(tot_labels.shape)\n",
    "    pred[confidences > threshold] = 1\n",
    "    pcl_count_by_threshold.append(pcl_count)\n",
    "    non_pcl_count_by_threshold.append(non_pcl_count)\n",
    "    f1_by_threshold.append(classification_report(tot_labels, pred, target_names=[\"Not PCL\", \"PCL\"], output_dict=True)['PCL']['f1-score'])\n",
    "    precision_by_threshold.append(classification_report(tot_labels, pred, target_names=[\"Not PCL\", \"PCL\"], output_dict=True)['PCL']['precision'])\n",
    "    recall_by_threshold.append(classification_report(tot_labels, pred, target_names=[\"Not PCL\", \"PCL\"], output_dict=True)['PCL']['recall'])\n",
    "\n",
    "\n",
    "best_threshold = np.argmax(f1_by_threshold) / 100"
   ]
  },
  {
   "cell_type": "code",
   "execution_count": null,
   "metadata": {},
   "outputs": [],
   "source": [
    "# best_threshold\n",
    "np.max(f1_by_threshold)"
   ]
  },
  {
   "cell_type": "code",
   "execution_count": null,
   "metadata": {},
   "outputs": [],
   "source": [
    "import matplotlib.pyplot as plt\n",
    "\n",
    "x=np.arange(0,100)\n",
    "l1=plt.plot(x,pcl_count_by_threshold,'r',label='pcl_count_by_threshold')\n",
    "l2=plt.plot(x,non_pcl_count_by_threshold,'g',label='non_pcl_count_by_threshold')\n",
    "\n",
    "# plt.plot(x1,y1,'ro-',x2,y2,'g+-',x3,y3,'b^-')\n",
    "plt.title('Frequency by threshold')\n",
    "plt.xlabel('threshold')\n",
    "plt.ylabel('column')\n",
    "plt.legend()\n",
    "plt.show()\n",
    "\n",
    "plt.clf()\n",
    "l3=plt.plot(x, f1_by_threshold,'r',label='f1_by_threshold')\n",
    "l4=plt.plot(x, precision_by_threshold,'g',label='precision_by_threshold')\n",
    "l5=plt.plot(x, recall_by_threshold,'b',label='recall_by_threshold')\n",
    "plt.title('Metrics by threshold')\n",
    "plt.xlabel('threshold')\n",
    "plt.ylabel('column')\n",
    "plt.legend()\n",
    "plt.show()"
   ]
  },
  {
   "cell_type": "markdown",
   "metadata": {},
   "source": [
    "# Test set"
   ]
  },
  {
   "cell_type": "code",
   "execution_count": null,
   "metadata": {},
   "outputs": [],
   "source": [
    "dpm_pp.load_test()\n",
    "test_df = dpm_pp.test_set_df\n",
    "test_df['label'] = 0\n",
    "test_dataset = PCLDataset(tokenizer, test_df)\n",
    "\n",
    "test_loader = DataLoader(test_dataset)\n",
    "\n",
    "preds, tot_labels, confidences = evaluate(model, tokenizer, test_loader, 0.5)\n",
    "tot_labels = np.array(tot_labels)\n",
    "preds = np.array(preds)\n",
    "# report = classification_report(tot_labels, preds, target_names=[\"Not PCL\",\"PCL\"], output_dict= True)\n",
    "# print(report)\n",
    "\n",
    "# print(report['accuracy'])\n",
    "# print(report['Not PCL']['f1-score'])\n",
    "# print(report['PCL']['f1-score'])"
   ]
  },
  {
   "cell_type": "code",
   "execution_count": null,
   "metadata": {},
   "outputs": [],
   "source": [
    "# preds.shape\n",
    "preds.shape"
   ]
  },
  {
   "cell_type": "code",
   "execution_count": null,
   "metadata": {},
   "outputs": [],
   "source": [
    "\n",
    "preds = preds.reshape(-1)\n",
    "Counter(preds)"
   ]
  },
  {
   "cell_type": "code",
   "execution_count": null,
   "metadata": {},
   "outputs": [],
   "source": [
    "# helper function to save predictions to an output file\n",
    "def labels2file(p, outf_path):\n",
    "\twith open(outf_path,'w') as outf:\n",
    "\t\tfor pi in p:\n",
    "\t\t\toutf.write(','.join([str(k) for k in pi])+'\\n')"
   ]
  },
  {
   "cell_type": "code",
   "execution_count": null,
   "metadata": {},
   "outputs": [],
   "source": [
    "labels2file([[k] for k in preds], 'task1.txt')\n",
    "!cat task1.txt | head -n 10\n",
    "!zip submission.zip task1.txt "
   ]
  },
  {
   "cell_type": "code",
   "execution_count": null,
   "metadata": {},
   "outputs": [],
   "source": [
    "best_threshold"
   ]
  },
  {
   "cell_type": "markdown",
   "metadata": {},
   "source": [
    "## Ensemble deberta and roberta"
   ]
  },
  {
   "cell_type": "code",
   "execution_count": 1,
   "metadata": {},
   "outputs": [
    {
     "name": "stdout",
     "output_type": "stream",
     "text": [
      "Looking in indexes: https://mirrors.aliyun.com/pypi/simple\n",
      "Requirement already satisfied: contractions in /usr/local/lib/python3.8/dist-packages (0.1.66)\n",
      "Requirement already satisfied: textsearch>=0.0.21 in /usr/local/lib/python3.8/dist-packages (from contractions) (0.0.21)\n",
      "Requirement already satisfied: pyahocorasick in /usr/local/lib/python3.8/dist-packages (from textsearch>=0.0.21->contractions) (1.4.4)\n",
      "Requirement already satisfied: anyascii in /usr/local/lib/python3.8/dist-packages (from textsearch>=0.0.21->contractions) (0.3.0)\n"
     ]
    },
    {
     "name": "stderr",
     "output_type": "stream",
     "text": [
      "WARNING: You are using pip version 21.0.1; however, version 22.0.3 is available.\n",
      "You should consider upgrading via the '/usr/local/bin/python -m pip install --upgrade pip' command.\n"
     ]
    },
    {
     "name": "stdout",
     "output_type": "stream",
     "text": [
      "Looking in indexes: https://mirrors.aliyun.com/pypi/simple\n",
      "Requirement already satisfied: nlpaug in /usr/local/lib/python3.8/dist-packages (1.1.10)\n",
      "Requirement already satisfied: requests>=2.22.0 in /usr/local/lib/python3.8/dist-packages (from nlpaug) (2.26.0)\n",
      "Requirement already satisfied: pandas>=1.2.0 in /usr/local/lib/python3.8/dist-packages (from nlpaug) (1.4.1)\n",
      "Requirement already satisfied: numpy>=1.16.2 in /usr/local/lib/python3.8/dist-packages (from nlpaug) (1.21.3)\n",
      "Requirement already satisfied: pytz>=2020.1 in /usr/local/lib/python3.8/dist-packages (from pandas>=1.2.0->nlpaug) (2021.3)\n",
      "Requirement already satisfied: python-dateutil>=2.8.1 in /usr/local/lib/python3.8/dist-packages (from pandas>=1.2.0->nlpaug) (2.8.2)\n",
      "Requirement already satisfied: six>=1.5 in /usr/lib/python3/dist-packages (from python-dateutil>=2.8.1->pandas>=1.2.0->nlpaug) (1.11.0)\n",
      "Requirement already satisfied: certifi>=2017.4.17 in /usr/lib/python3/dist-packages (from requests>=2.22.0->nlpaug) (2018.1.18)\n",
      "Requirement already satisfied: urllib3<1.27,>=1.21.1 in /usr/lib/python3/dist-packages (from requests>=2.22.0->nlpaug) (1.22)\n",
      "Requirement already satisfied: charset-normalizer~=2.0.0 in /usr/local/lib/python3.8/dist-packages (from requests>=2.22.0->nlpaug) (2.0.7)\n",
      "Requirement already satisfied: idna<4,>=2.5 in /usr/local/lib/python3.8/dist-packages (from requests>=2.22.0->nlpaug) (3.3)\n"
     ]
    },
    {
     "name": "stderr",
     "output_type": "stream",
     "text": [
      "WARNING: You are using pip version 21.0.1; however, version 22.0.3 is available.\n",
      "You should consider upgrading via the '/usr/local/bin/python -m pip install --upgrade pip' command.\n",
      "/usr/local/lib/python3.8/dist-packages/tqdm/auto.py:22: TqdmWarning: IProgress not found. Please update jupyter and ipywidgets. See https://ipywidgets.readthedocs.io/en/stable/user_install.html\n",
      "  from .autonotebook import tqdm as notebook_tqdm\n"
     ]
    }
   ],
   "source": [
    "from dpm_preprocessing import DPMProprocessed\n",
    "import torch\n",
    "#from transformers import RobertaForSequenceClassification, RobertaTokenizer, Trainer, TrainingArguments, RobertaConfig\n",
    "from transformers import AutoConfig, AutoModelForSequenceClassification, AutoTokenizer, Trainer, TrainingArguments\n",
    "import torch.nn as nn\n",
    "from torch.utils.data import DataLoader\n",
    "import numpy as np\n",
    "from sklearn.metrics import classification_report\n",
    "import pandas as pd\n",
    "from sklearn.metrics import f1_score\n",
    "from collections import Counter\n",
    "device = torch.device(\"cuda\"  if torch.cuda.is_available() else \"cpu\")\n",
    "from copy import deepcopy\n",
    "import os\n",
    "os.environ[\"WANDB_DISABLED\"] = \"true\"\n",
    "os.environ[\"CUDA_VISIBLE_DEVICES\"]= \"0\""
   ]
  },
  {
   "cell_type": "code",
   "execution_count": 2,
   "metadata": {},
   "outputs": [],
   "source": [
    "class PCLDataset(torch.utils.data.Dataset):\n",
    "\n",
    "    def __init__(self, tokenizer, input_set):\n",
    "\n",
    "        self.tokenizer = tokenizer\n",
    "        self.texts = list(input_set['text'])\n",
    "        self.labels = list(input_set['label'])\n",
    "        \n",
    "    def collate_fn(self, batch):\n",
    "\n",
    "        texts = []\n",
    "        labels = []\n",
    "\n",
    "        for b in batch:\n",
    "            texts.append(b['text'])\n",
    "            labels.append(b['label'])\n",
    "\n",
    "        encodings = self.tokenizer(texts, return_tensors='pt', padding=True, truncation=True, max_length=MAX_SEQ_LEN)\n",
    "        encodings['labels'] =  torch.tensor(labels)\n",
    "        return encodings\n",
    "    \n",
    "    def __len__(self):\n",
    "        return len(self.texts)\n",
    "\n",
    "    def __getitem__(self, idx):\n",
    "       \n",
    "        item = {'text': self.texts[idx],\n",
    "                'label': self.labels[idx]}\n",
    "        return item"
   ]
  },
  {
   "cell_type": "code",
   "execution_count": 3,
   "metadata": {},
   "outputs": [
    {
     "name": "stdout",
     "output_type": "stream",
     "text": [
      "Map of label to numerical label:\n",
      "{'Unbalanced_power_relations': 0, 'Shallow_solution': 1, 'Presupposition': 2, 'Authority_voice': 3, 'Metaphors': 4, 'Compassion': 5, 'The_poorer_the_merrier': 6}\n",
      "      par_id      art_id     keyword country  \\\n",
      "0          1  @@24942188    hopeless      ph   \n",
      "1          2  @@21968160     migrant      gh   \n",
      "2          3  @@16584954   immigrant      ie   \n",
      "3          4   @@7811231    disabled      nz   \n",
      "4          5   @@1494111     refugee      ca   \n",
      "...      ...         ...         ...     ...   \n",
      "10464  10465  @@14297363       women      lk   \n",
      "10465  10466  @@70091353  vulnerable      ph   \n",
      "10466  10467  @@20282330     in-need      ng   \n",
      "10467  10468  @@16753236    hopeless      in   \n",
      "10468  10469  @@16779383    homeless      ie   \n",
      "\n",
      "                                                    text  label orig_label  \\\n",
      "0      We are living in times of absolute insanity , ...      0          0   \n",
      "1      In Libya today , there are countless number of...      0          0   \n",
      "2       White House press secretary Sean Spicer said ...      0          0   \n",
      "3      Council customers only signs would be displaye...      0          0   \n",
      "4       Just like we received migrants fleeing El Sal...      0          0   \n",
      "...                                                  ...    ...        ...   \n",
      "10464   Sri Lankan norms and culture inhibit women fr...      0          1   \n",
      "10465  He added that the AFP will continue to bank on...      0          0   \n",
      "10466   She has one huge platform , and information c...      1          3   \n",
      "10467   Anja Ringgren Loven I ca n't find a word to d...      1          4   \n",
      "10468   Guinness World Record of 540lbs of 7 layer mu...      1          3   \n",
      "\n",
      "       lenght  \n",
      "0         123  \n",
      "1          41  \n",
      "2          25  \n",
      "3          30  \n",
      "4          51  \n",
      "...       ...  \n",
      "10464      62  \n",
      "10465      42  \n",
      "10466      54  \n",
      "10467     103  \n",
      "10468      29  \n",
      "\n",
      "[10469 rows x 8 columns]\n",
      "Training set length:  18844\n",
      "Validation set length:  1047\n"
     ]
    }
   ],
   "source": [
    "dpm_pp = DPMProprocessed('.', 'task4_test.tsv')\n",
    "\n",
    "\n",
    "df_type = 'BACKTRANS' # Can be UNBALANCED, BACKTRANS, OVERSAMPLING\n",
    "assert df_type in ['UNBALANCED', 'BACKTRANS', 'OVERSAMPLING']\n",
    "\n",
    "if df_type == 'UNBALANCED':\n",
    "    train_df_path = 'traindf.pickle'\n",
    "    val_df_path = 'valdf.pickle'\n",
    "if df_type == 'BACKTRANS': \n",
    "    train_df_path = 'traindf_backtrans.pickle'\n",
    "    val_df_path = 'valdf_backtrans.pickle'\n",
    "\n",
    "\n",
    "if not os.path.isfile(train_df_path) or not os.path.isfile(val_df_path):\n",
    "  train_df, val_df = dpm_pp.get_unbalanced_split(0.1)\n",
    "  train_df.to_pickle('traindf.pickle')\n",
    "  val_df.to_pickle('valdf.pickle')\n",
    "else:\n",
    "  train_df = pd.read_pickle(train_df_path)\n",
    "  val_df = pd.read_pickle(val_df_path)\n",
    "\n",
    "print(\"Training set length: \",len(train_df))\n",
    "print(\"Validation set length: \",len(val_df))"
   ]
  },
  {
   "cell_type": "code",
   "execution_count": 4,
   "metadata": {},
   "outputs": [],
   "source": [
    "def predict_pcl(input, tokenizer, model, threshold=0.5):\n",
    "    model.eval()\n",
    "    encodings = tokenizer(input, return_tensors='pt', padding=True, truncation=True, max_length=256)\n",
    "    encodings = encodings.to(device)\n",
    "    output = model(**encodings)\n",
    "    logits = output.logits\n",
    "    prob = nn.functional.softmax(logits)[: , 1].cpu()\n",
    "    preds = np.array([int(prob>threshold)])\n",
    "    return {'prediction': preds, 'confidence': prob}\n",
    "\n",
    "\n",
    "def evaluate(model, tokenizer, data_loader, threshold=0.5):\n",
    "    preds = []\n",
    "    tot_labels = []\n",
    "    confidences = []\n",
    "    with torch.no_grad():\n",
    "        for data in (data_loader):\n",
    "            labels = {}\n",
    "            labels['label'] = data['label']\n",
    "\n",
    "            tweets = data['text']\n",
    "\n",
    "            pred = predict_pcl(tweets, tokenizer, model, threshold)\n",
    "\n",
    "            preds.append(np.array(pred['prediction']))\n",
    "            tot_labels.append(np.array(labels['label'].cpu()))\n",
    "            confidences.append(np.array(pred['confidence'].cpu()))\n",
    "\n",
    "    # with the saved predictions and labels we can compute accuracy, precision, recall and f1-score\n",
    "\n",
    "    return preds, tot_labels, confidences\n",
    "\n",
    "# helper function to save predictions to an output file\n",
    "def labels2file(p, outf_path):\n",
    "\twith open(outf_path,'w') as outf:\n",
    "\t\tfor pi in p:\n",
    "\t\t\toutf.write(','.join([str(k) for k in pi])+'\\n')"
   ]
  },
  {
   "cell_type": "code",
   "execution_count": 5,
   "metadata": {},
   "outputs": [],
   "source": [
    "# Path of the best deberta\n",
    "deberta_model_name = \"microsoft/deberta-v2-xlarge\"\n",
    "deberta_model_path = f'/hy-tmp/models/pcl_{deberta_model_name}_finetuned/model/'\n",
    "deberta_tokenizer_path = f'/hy-tmp/models/pcl_{deberta_model_name}_finetuned/tokenizer/'\n",
    "# Path of the roberta\n",
    "roberta_model_name = \"roberta-base\"\n",
    "roberta_model_path = f'./models/pcl_{roberta_model_name}_finetuned/model/'\n",
    "roberta_tokenizer_path = f'./models/pcl_{roberta_model_name}_finetuned/tokenizer/'\n",
    "# Path for bert\n",
    "bert_model_name = \"bert-base-uncased\"\n",
    "bert_model_path = f'./models/pcl_{bert_model_name}_finetuned/model/'\n",
    "bert_tokenizer_path = f'./models/pcl_{bert_model_name}_finetuned/tokenizer/'"
   ]
  },
  {
   "cell_type": "code",
   "execution_count": 6,
   "metadata": {},
   "outputs": [],
   "source": [
    "# Read the tokenizer and the model seperately\n",
    "config = AutoConfig.from_pretrained(deberta_model_name)\n",
    "deberta_tokenizer = AutoTokenizer.from_pretrained(deberta_tokenizer_path)\n",
    "deberta_model = AutoModelForSequenceClassification.from_pretrained(deberta_model_path , config = config).to(device)"
   ]
  },
  {
   "cell_type": "code",
   "execution_count": 7,
   "metadata": {},
   "outputs": [],
   "source": [
    "# Read the tokenizer and the model seperately\n",
    "config = AutoConfig.from_pretrained(bert_model_name)\n",
    "bert_tokenizer = AutoTokenizer.from_pretrained(bert_tokenizer_path)\n",
    "bert_model = AutoModelForSequenceClassification.from_pretrained(bert_model_path , config = config).to(device)"
   ]
  },
  {
   "cell_type": "code",
   "execution_count": 8,
   "metadata": {},
   "outputs": [],
   "source": [
    "config = AutoConfig.from_pretrained(roberta_model_name)\n",
    "roberta_tokenizer = AutoTokenizer.from_pretrained(roberta_tokenizer_path)\n",
    "roberta_model = AutoModelForSequenceClassification.from_pretrained(roberta_model_path , config = config).to(device)"
   ]
  },
  {
   "cell_type": "code",
   "execution_count": 9,
   "metadata": {},
   "outputs": [
    {
     "name": "stderr",
     "output_type": "stream",
     "text": [
      "/tmp/ipykernel_299/41826029.py:7: UserWarning: Implicit dimension choice for softmax has been deprecated. Change the call to include dim=X as an argument.\n",
      "  prob = nn.functional.softmax(logits)[: , 1].cpu()\n"
     ]
    }
   ],
   "source": [
    "# Predict use deberta\n",
    "train_dataset = PCLDataset(deberta_tokenizer, train_df)\n",
    "eval_dataset = PCLDataset(deberta_tokenizer, val_df)\n",
    "dpm_pp.load_test()\n",
    "test_df = dpm_pp.test_set_df\n",
    "test_df['label'] = 0\n",
    "test_dataset = PCLDataset(deberta_tokenizer, test_df)\n",
    "test_loader = DataLoader(test_dataset)\n",
    "preds, tot_labels, confidences = evaluate(deberta_model, deberta_tokenizer, test_loader, 0.65)\n",
    "tot_labels = np.array(tot_labels)\n",
    "preds = np.array(preds)\n",
    "deberta_preds = preds.reshape(-1)\n"
   ]
  },
  {
   "cell_type": "code",
   "execution_count": 22,
   "metadata": {},
   "outputs": [
    {
     "name": "stderr",
     "output_type": "stream",
     "text": [
      "/tmp/ipykernel_299/41826029.py:7: UserWarning: Implicit dimension choice for softmax has been deprecated. Change the call to include dim=X as an argument.\n",
      "  prob = nn.functional.softmax(logits)[: , 1].cpu()\n"
     ]
    }
   ],
   "source": [
    "# Predict use roberta\n",
    "train_dataset = PCLDataset(roberta_tokenizer, train_df)\n",
    "eval_dataset = PCLDataset(roberta_tokenizer, val_df)\n",
    "dpm_pp.load_test()\n",
    "test_df = dpm_pp.test_set_df\n",
    "test_df['label'] = 0\n",
    "test_dataset = PCLDataset(roberta_tokenizer, test_df)\n",
    "test_loader = DataLoader(test_dataset)\n",
    "preds, tot_labels, confidences = evaluate(roberta_model, roberta_tokenizer, test_loader, 0.65)\n",
    "tot_labels = np.array(tot_labels)\n",
    "preds = np.array(preds)\n",
    "roberta_preds = preds.reshape(-1)"
   ]
  },
  {
   "cell_type": "code",
   "execution_count": 23,
   "metadata": {},
   "outputs": [
    {
     "name": "stderr",
     "output_type": "stream",
     "text": [
      "/tmp/ipykernel_299/41826029.py:7: UserWarning: Implicit dimension choice for softmax has been deprecated. Change the call to include dim=X as an argument.\n",
      "  prob = nn.functional.softmax(logits)[: , 1].cpu()\n"
     ]
    }
   ],
   "source": [
    "# Predict use bert\n",
    "train_dataset = PCLDataset(bert_tokenizer, train_df)\n",
    "eval_dataset = PCLDataset(bert_tokenizer, val_df)\n",
    "dpm_pp.load_test()\n",
    "test_df = dpm_pp.test_set_df\n",
    "test_df['label'] = 0\n",
    "test_dataset = PCLDataset(bert_tokenizer, test_df)\n",
    "test_loader = DataLoader(test_dataset)\n",
    "preds, tot_labels, confidences = evaluate(bert_model, bert_tokenizer, test_loader, 0.65)\n",
    "tot_labels = np.array(tot_labels)\n",
    "preds = np.array(preds)\n",
    "bert_preds = preds.reshape(-1)"
   ]
  },
  {
   "cell_type": "code",
   "execution_count": 24,
   "metadata": {},
   "outputs": [
    {
     "data": {
      "text/plain": [
       "Counter({0: 3593, 1: 239})"
      ]
     },
     "execution_count": 24,
     "metadata": {},
     "output_type": "execute_result"
    }
   ],
   "source": [
    "Counter(roberta_preds)"
   ]
  },
  {
   "cell_type": "code",
   "execution_count": 25,
   "metadata": {},
   "outputs": [
    {
     "data": {
      "text/plain": [
       "Counter({0: 3517, 1: 315})"
      ]
     },
     "execution_count": 25,
     "metadata": {},
     "output_type": "execute_result"
    }
   ],
   "source": [
    "Counter(deberta_preds)"
   ]
  },
  {
   "cell_type": "code",
   "execution_count": 26,
   "metadata": {},
   "outputs": [
    {
     "data": {
      "text/plain": [
       "Counter({0: 3649, 1: 183})"
      ]
     },
     "execution_count": 26,
     "metadata": {},
     "output_type": "execute_result"
    }
   ],
   "source": [
    "Counter(bert_preds)"
   ]
  },
  {
   "cell_type": "code",
   "execution_count": 33,
   "metadata": {},
   "outputs": [
    {
     "data": {
      "text/plain": [
       "Counter({0: 3482, 1: 350})"
      ]
     },
     "execution_count": 33,
     "metadata": {},
     "output_type": "execute_result"
    }
   ],
   "source": [
    "final_pred = np.ones(len(deberta_preds),dtype=int)\n",
    "for i in range(len(deberta_preds)):\n",
    "    if deberta_preds[i]==0 and bert_preds[i]==0:\n",
    "        final_pred[i] =0\n",
    "Counter(final_pred)"
   ]
  },
  {
   "cell_type": "code",
   "execution_count": 36,
   "metadata": {},
   "outputs": [
    {
     "name": "stdout",
     "output_type": "stream",
     "text": [
      "huggingface/tokenizers: The current process just got forked, after parallelism has already been used. Disabling parallelism to avoid deadlocks...\n",
      "To disable this warning, you can either:\n",
      "\t- Avoid using `tokenizers` before the fork if possible\n",
      "\t- Explicitly set the environment variable TOKENIZERS_PARALLELISM=(true | false)\n",
      "updating: task1.txt (deflated 95%)\n"
     ]
    }
   ],
   "source": [
    "labels2file([[k] for k in final_pred], 'task1.txt')\n",
    "!zip submission.zip task1.txt"
   ]
  },
  {
   "cell_type": "code",
   "execution_count": null,
   "metadata": {},
   "outputs": [],
   "source": []
  }
 ],
 "metadata": {
  "interpreter": {
   "hash": "3d597f4c481aa0f25dceb95d2a0067e73c0966dcbd003d741d821a7208527ecf"
  },
  "kernelspec": {
   "display_name": "Python 3 (ipykernel)",
   "language": "python",
   "name": "python3"
  },
  "language_info": {
   "codemirror_mode": {
    "name": "ipython",
    "version": 3
   },
   "file_extension": ".py",
   "mimetype": "text/x-python",
   "name": "python",
   "nbconvert_exporter": "python",
   "pygments_lexer": "ipython3",
   "version": "3.8.12"
  }
 },
 "nbformat": 4,
 "nbformat_minor": 4
}
