{
 "cells": [
  {
   "cell_type": "code",
   "execution_count": 1,
   "id": "c046fe1d",
   "metadata": {},
   "outputs": [
    {
     "name": "stdout",
     "output_type": "stream",
     "text": [
      "509ceea7173cdebd63f08c28769e3b4d\n"
     ]
    }
   ],
   "source": [
    "from notebook import notebookapp\n",
    "notebook_token = list(notebookapp.list_running_servers())[0]['token']\n",
    "print(notebook_token)"
   ]
  },
  {
   "cell_type": "code",
   "execution_count": 2,
   "id": "4f9584b8",
   "metadata": {},
   "outputs": [
    {
     "ename": "SyntaxError",
     "evalue": "invalid syntax (4105385364.py, line 1)",
     "output_type": "error",
     "traceback": [
      "\u001b[0;36m  File \u001b[0;32m\"/tmp/ipykernel_101/4105385364.py\"\u001b[0;36m, line \u001b[0;32m1\u001b[0m\n\u001b[0;31m    https://nftd52bmjh.clg07azjl.paperspacegradient.com/lab?token=acd97be8babed1229b9c207c7b7cc78c\u001b[0m\n\u001b[0m          ^\u001b[0m\n\u001b[0;31mSyntaxError\u001b[0m\u001b[0;31m:\u001b[0m invalid syntax\n"
     ]
    }
   ],
   "source": [
    "https://njk8rqqvwu.clg07azjl.paperspacegradient.com/lab?token=acd97be8babed1229b9c207c7b7cc78c"
   ]
  },
  {
   "cell_type": "code",
   "execution_count": null,
   "id": "adb018d8",
   "metadata": {},
   "outputs": [],
   "source": []
  }
 ],
 "metadata": {
  "kernelspec": {
   "display_name": "Python 3 (ipykernel)",
   "language": "python",
   "name": "python3"
  },
  "language_info": {
   "codemirror_mode": {
    "name": "ipython",
    "version": 3
   },
   "file_extension": ".py",
   "mimetype": "text/x-python",
   "name": "python",
   "nbconvert_exporter": "python",
   "pygments_lexer": "ipython3",
   "version": "3.8.12"
  }
 },
 "nbformat": 4,
 "nbformat_minor": 5
}
